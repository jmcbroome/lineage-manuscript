{
 "cells": [
  {
   "cell_type": "code",
   "execution_count": 4,
   "id": "cf0d91ee",
   "metadata": {},
   "outputs": [],
   "source": [
    "import pandas as pd\n",
    "import numpy as np\n",
    "import seaborn as sns\n",
    "import matplotlib.pyplot as plt\n",
    "import bte\n",
    "import datetime as dt"
   ]
  },
  {
   "cell_type": "markdown",
   "id": "4e065100",
   "metadata": {},
   "source": [
    "We begin by reading in our proposal data. To create `public-2023-03-30.all.masked.proposed.tsv` and `public-2023-03-30.all.masked.proposed.pb`, you must first obtain the relevant phylogeny from the UCSC repository.\n",
    "\n",
    "`\n",
    "wget http://hgdownload.soe.ucsc.edu/goldenPath/wuhCor1/UShER_SARS-CoV-2/2023/03/30/public-2023-03-30.all.masked.pb.gz`\n",
    "\n",
    "\n",
    "`wget http://hgdownload.soe.ucsc.edu/goldenPath/wuhCor1/UShER_SARS-CoV-2/2023/03/30/public-2023-03-30.metadata.tsv.gz`\n",
    "\n",
    "And change the filenames to match.\n",
    "\n",
    "`mv public-2023-03-30.metadata.tsv.gz public-2023-03-30.all.masked.metadata.tsv.gz`\n",
    "\n",
    "Then, you apply the [autolin pipeline](https://github.com/jmcbroome/autolin). Alternatively, autolin includes a rule to automatically fetch the relevant data.\n",
    "\n",
    "`snakemake --cores 1 --snakefile flag_lineages.smk public-2023-03-30.all.masked.proposed.pb`\n",
    "\n",
    "This will produce the tsv and pb file used below."
   ]
  },
  {
   "cell_type": "code",
   "execution_count": 16,
   "id": "703fc674",
   "metadata": {},
   "outputs": [
    {
     "data": {
      "text/html": [
       "<div>\n",
       "<style scoped>\n",
       "    .dataframe tbody tr th:only-of-type {\n",
       "        vertical-align: middle;\n",
       "    }\n",
       "\n",
       "    .dataframe tbody tr th {\n",
       "        vertical-align: top;\n",
       "    }\n",
       "\n",
       "    .dataframe thead th {\n",
       "        text-align: right;\n",
       "    }\n",
       "</style>\n",
       "<table border=\"1\" class=\"dataframe\">\n",
       "  <thead>\n",
       "    <tr style=\"text-align: right;\">\n",
       "      <th></th>\n",
       "      <th>parent</th>\n",
       "      <th>parent_nid</th>\n",
       "      <th>proposed_sublineage</th>\n",
       "      <th>proposed_sublineage_nid</th>\n",
       "      <th>proposed_sublineage_score</th>\n",
       "      <th>proposed_sublineage_size</th>\n",
       "    </tr>\n",
       "  </thead>\n",
       "  <tbody>\n",
       "    <tr>\n",
       "      <th>0</th>\n",
       "      <td>B.1.1.529</td>\n",
       "      <td>node_686702</td>\n",
       "      <td>auto.B.1.1.529.6</td>\n",
       "      <td>node_1127589</td>\n",
       "      <td>2067.210087</td>\n",
       "      <td>2756</td>\n",
       "    </tr>\n",
       "    <tr>\n",
       "      <th>1</th>\n",
       "      <td>XBB</td>\n",
       "      <td>node_1086834</td>\n",
       "      <td>auto.XBB.9</td>\n",
       "      <td>node_1109611</td>\n",
       "      <td>8.250000</td>\n",
       "      <td>22</td>\n",
       "    </tr>\n",
       "    <tr>\n",
       "      <th>2</th>\n",
       "      <td>XBB.1</td>\n",
       "      <td>node_1087133</td>\n",
       "      <td>auto.XBB.1.2</td>\n",
       "      <td>node_1087253</td>\n",
       "      <td>35.003911</td>\n",
       "      <td>209</td>\n",
       "    </tr>\n",
       "    <tr>\n",
       "      <th>3</th>\n",
       "      <td>XBB.2</td>\n",
       "      <td>node_1109076</td>\n",
       "      <td>auto.XBB.2.9</td>\n",
       "      <td>node_1109281</td>\n",
       "      <td>25.804878</td>\n",
       "      <td>51</td>\n",
       "    </tr>\n",
       "    <tr>\n",
       "      <th>4</th>\n",
       "      <td>XBB.4</td>\n",
       "      <td>node_1086863</td>\n",
       "      <td>auto.XBB.4.2</td>\n",
       "      <td>node_1086875</td>\n",
       "      <td>6.302083</td>\n",
       "      <td>11</td>\n",
       "    </tr>\n",
       "    <tr>\n",
       "      <th>...</th>\n",
       "      <td>...</td>\n",
       "      <td>...</td>\n",
       "      <td>...</td>\n",
       "      <td>...</td>\n",
       "      <td>...</td>\n",
       "      <td>...</td>\n",
       "    </tr>\n",
       "    <tr>\n",
       "      <th>59</th>\n",
       "      <td>XBF.1</td>\n",
       "      <td>node_1129006</td>\n",
       "      <td>auto.XBF.1.1</td>\n",
       "      <td>node_1129009</td>\n",
       "      <td>36.716204</td>\n",
       "      <td>57</td>\n",
       "    </tr>\n",
       "    <tr>\n",
       "      <th>60</th>\n",
       "      <td>XBP</td>\n",
       "      <td>node_990244</td>\n",
       "      <td>auto.XBP.1</td>\n",
       "      <td>node_990249</td>\n",
       "      <td>3.840000</td>\n",
       "      <td>19</td>\n",
       "    </tr>\n",
       "    <tr>\n",
       "      <th>61</th>\n",
       "      <td>XBF.4</td>\n",
       "      <td>node_1129025</td>\n",
       "      <td>auto.XBF.4.1</td>\n",
       "      <td>node_1129032</td>\n",
       "      <td>26.638646</td>\n",
       "      <td>109</td>\n",
       "    </tr>\n",
       "    <tr>\n",
       "      <th>62</th>\n",
       "      <td>XBF.3</td>\n",
       "      <td>node_1129148</td>\n",
       "      <td>auto.XBF.3.1</td>\n",
       "      <td>node_1129176</td>\n",
       "      <td>7.535867</td>\n",
       "      <td>18</td>\n",
       "    </tr>\n",
       "    <tr>\n",
       "      <th>63</th>\n",
       "      <td>XBF.7.1</td>\n",
       "      <td>node_1129264</td>\n",
       "      <td>auto.XBF.7.1.1</td>\n",
       "      <td>node_1129266</td>\n",
       "      <td>19.511072</td>\n",
       "      <td>32</td>\n",
       "    </tr>\n",
       "  </tbody>\n",
       "</table>\n",
       "<p>64 rows × 6 columns</p>\n",
       "</div>"
      ],
      "text/plain": [
       "       parent    parent_nid proposed_sublineage proposed_sublineage_nid  \\\n",
       "0   B.1.1.529   node_686702    auto.B.1.1.529.6            node_1127589   \n",
       "1         XBB  node_1086834          auto.XBB.9            node_1109611   \n",
       "2       XBB.1  node_1087133        auto.XBB.1.2            node_1087253   \n",
       "3       XBB.2  node_1109076        auto.XBB.2.9            node_1109281   \n",
       "4       XBB.4  node_1086863        auto.XBB.4.2            node_1086875   \n",
       "..        ...           ...                 ...                     ...   \n",
       "59      XBF.1  node_1129006        auto.XBF.1.1            node_1129009   \n",
       "60        XBP   node_990244          auto.XBP.1             node_990249   \n",
       "61      XBF.4  node_1129025        auto.XBF.4.1            node_1129032   \n",
       "62      XBF.3  node_1129148        auto.XBF.3.1            node_1129176   \n",
       "63    XBF.7.1  node_1129264      auto.XBF.7.1.1            node_1129266   \n",
       "\n",
       "    proposed_sublineage_score  proposed_sublineage_size  \n",
       "0                 2067.210087                      2756  \n",
       "1                    8.250000                        22  \n",
       "2                   35.003911                       209  \n",
       "3                   25.804878                        51  \n",
       "4                    6.302083                        11  \n",
       "..                        ...                       ...  \n",
       "59                  36.716204                        57  \n",
       "60                   3.840000                        19  \n",
       "61                  26.638646                       109  \n",
       "62                   7.535867                        18  \n",
       "63                  19.511072                        32  \n",
       "\n",
       "[64 rows x 6 columns]"
      ]
     },
     "execution_count": 16,
     "metadata": {},
     "output_type": "execute_result"
    }
   ],
   "source": [
    "pdf = pd.read_csv(\"public-2023-03-30.all.masked.proposed.tsv\",sep='\\t')\n",
    "pdf"
   ]
  },
  {
   "cell_type": "code",
   "execution_count": 17,
   "id": "9cadecee",
   "metadata": {},
   "outputs": [
    {
     "data": {
      "text/plain": [
       "count      64.000000\n",
       "mean      131.953125\n",
       "std       379.132403\n",
       "min        10.000000\n",
       "25%        17.500000\n",
       "50%        50.500000\n",
       "75%        91.500000\n",
       "max      2756.000000\n",
       "Name: proposed_sublineage_size, dtype: float64"
      ]
     },
     "execution_count": 17,
     "metadata": {},
     "output_type": "execute_result"
    }
   ],
   "source": [
    "pdf.proposed_sublineage_size.describe()"
   ]
  },
  {
   "cell_type": "code",
   "execution_count": 69,
   "id": "e05086e4",
   "metadata": {},
   "outputs": [
    {
     "name": "stderr",
     "output_type": "stream",
     "text": [
      "Finished 'from_pb' in 92.8817 seconds\n"
     ]
    },
    {
     "data": {
      "text/plain": [
       "MATree object with 6690333 leaves."
      ]
     },
     "execution_count": 69,
     "metadata": {},
     "output_type": "execute_result"
    }
   ],
   "source": [
    "#get the complete set of samples associated with this initial designation set and track their behavior over the next month.\n",
    "t = bte.MATree(\"public-2023-03-30.all.masked.proposed.pb\")\n",
    "t"
   ]
  },
  {
   "cell_type": "code",
   "execution_count": 71,
   "id": "4c6a70e1",
   "metadata": {},
   "outputs": [
    {
     "data": {
      "text/plain": [
       "8445"
      ]
     },
     "execution_count": 71,
     "metadata": {},
     "output_type": "execute_result"
    }
   ],
   "source": [
    "auto_samples = set()\n",
    "for nid in pdf.proposed_sublineage_nid:\n",
    "    for s in t.get_leaves_ids(nid):\n",
    "        auto_samples.add(s)\n",
    "len(auto_samples)"
   ]
  },
  {
   "cell_type": "markdown",
   "id": "a7f661fd",
   "metadata": {},
   "source": [
    "Once we have the set of samples associated with the proposals on the original tree, we scan for samples in these groups over the next month, as well as any new samples associated with these trees.\n",
    "\n",
    "First, we have to obtain the next month's worth of global phylogenies. This repository containing this notebook includes a shell script to download all of the data and another script which iteratively transfers annotations between phylogenies.\n",
    "\n",
    "`bash download_data.sh`\n",
    "\n",
    "After the data is made available, we remove any new lineages not present in the 2023-04-01 annotated tree from the subsequent month to prevent lineage collisions or confusion.\n",
    "\n",
    "`matUtils summary -i public-2023-03-30.all.masked.proposed.pb -C auto_proposed_sample_clades.txt`\n",
    "\n",
    "`for f in public-2023-04*pb.gz ; do python3 clean_lineages.py -a auto_proposed_sample_clades.txt -t $f ; done`\n",
    "\n",
    "We need to do some additional data preparation to get files for running matUtils annotate before we begin the loop.\n",
    "\n",
    "`awk -F'\\t' '{print $2\"\\t\"$1}' auto_proposed_sample_clades.txt > auto_proposed_clades_samples.txt`\n",
    "\n",
    "`matUtils extract -i public-2023-03-30.all.masked.proposed.pb -C auto_proposed_clade_paths.txt`\n",
    "\n",
    "`awk -F'\\t' '{print $1\"\\t\"$3}' auto_proposed_clade_paths.txt > auto_proposed_clade_paths.cleaned.txt`\n",
    "\n",
    "Then you can begin the loop script.\n",
    "\n",
    "`annotation_loop.sh`\n",
    "\n",
    "After the completion of this step, compute the clade memberships for each of the daily samples over the month.\n",
    "\n",
    "`for f in cleaned*transfer.pb.gz ; do echo $f ; matUtils summary -i $f -C ${f%pb.gz}cladesamples.txt ; done`\n",
    "\n",
    "These files are read below."
   ]
  },
  {
   "cell_type": "code",
   "execution_count": 216,
   "id": "f8892fce",
   "metadata": {
    "scrolled": true
   },
   "outputs": [
    {
     "name": "stdout",
     "output_type": "stream",
     "text": [
      "cleaned.public-2023-04-01.all.masked.transfer.cladesamples.txt\n"
     ]
    },
    {
     "data": {
      "application/vnd.jupyter.widget-view+json": {
       "model_id": "af9df54879fc4766b796a45973747201",
       "version_major": 2,
       "version_minor": 0
      },
      "text/plain": [
       "  0%|          | 0/6911841 [00:00<?, ?it/s]"
      ]
     },
     "metadata": {},
     "output_type": "display_data"
    },
    {
     "name": "stdout",
     "output_type": "stream",
     "text": [
      "cleaned.public-2023-04-02.all.masked.transfer.cladesamples.txt\n"
     ]
    },
    {
     "data": {
      "application/vnd.jupyter.widget-view+json": {
       "model_id": "ba9599ce4251424aa6a5ea1f319bc0f3",
       "version_major": 2,
       "version_minor": 0
      },
      "text/plain": [
       "  0%|          | 0/6912575 [00:00<?, ?it/s]"
      ]
     },
     "metadata": {},
     "output_type": "display_data"
    },
    {
     "name": "stdout",
     "output_type": "stream",
     "text": [
      "cleaned.public-2023-04-03.all.masked.transfer.cladesamples.txt\n"
     ]
    },
    {
     "data": {
      "application/vnd.jupyter.widget-view+json": {
       "model_id": "844a1874688f4cb0a1793e0ffc53f5da",
       "version_major": 2,
       "version_minor": 0
      },
      "text/plain": [
       "  0%|          | 0/6913141 [00:00<?, ?it/s]"
      ]
     },
     "metadata": {},
     "output_type": "display_data"
    },
    {
     "name": "stdout",
     "output_type": "stream",
     "text": [
      "cleaned.public-2023-04-04.all.masked.transfer.cladesamples.txt\n"
     ]
    },
    {
     "data": {
      "application/vnd.jupyter.widget-view+json": {
       "model_id": "ad6ba33ca9694e84b6b353d83b3aa18a",
       "version_major": 2,
       "version_minor": 0
      },
      "text/plain": [
       "  0%|          | 0/6916044 [00:00<?, ?it/s]"
      ]
     },
     "metadata": {},
     "output_type": "display_data"
    },
    {
     "name": "stdout",
     "output_type": "stream",
     "text": [
      "cleaned.public-2023-04-05.all.masked.transfer.cladesamples.txt\n"
     ]
    },
    {
     "data": {
      "application/vnd.jupyter.widget-view+json": {
       "model_id": "0935d7dac48641ad9bbd332d0fbcaf0c",
       "version_major": 2,
       "version_minor": 0
      },
      "text/plain": [
       "  0%|          | 0/6918318 [00:00<?, ?it/s]"
      ]
     },
     "metadata": {},
     "output_type": "display_data"
    },
    {
     "name": "stdout",
     "output_type": "stream",
     "text": [
      "cleaned.public-2023-04-06.all.masked.transfer.cladesamples.txt\n"
     ]
    },
    {
     "data": {
      "application/vnd.jupyter.widget-view+json": {
       "model_id": "9135e6411b5343af998bec6a62cc64cb",
       "version_major": 2,
       "version_minor": 0
      },
      "text/plain": [
       "  0%|          | 0/6919610 [00:00<?, ?it/s]"
      ]
     },
     "metadata": {},
     "output_type": "display_data"
    },
    {
     "name": "stdout",
     "output_type": "stream",
     "text": [
      "cleaned.public-2023-04-07.all.masked.transfer.cladesamples.txt\n"
     ]
    },
    {
     "data": {
      "application/vnd.jupyter.widget-view+json": {
       "model_id": "c343dfe0c46a4e53aa0204e25e071f2d",
       "version_major": 2,
       "version_minor": 0
      },
      "text/plain": [
       "  0%|          | 0/6932726 [00:00<?, ?it/s]"
      ]
     },
     "metadata": {},
     "output_type": "display_data"
    },
    {
     "name": "stdout",
     "output_type": "stream",
     "text": [
      "cleaned.public-2023-04-08.all.masked.transfer.cladesamples.txt\n"
     ]
    },
    {
     "data": {
      "application/vnd.jupyter.widget-view+json": {
       "model_id": "8f1d049d5ede4cd68a304818006cef92",
       "version_major": 2,
       "version_minor": 0
      },
      "text/plain": [
       "  0%|          | 0/6937805 [00:00<?, ?it/s]"
      ]
     },
     "metadata": {},
     "output_type": "display_data"
    },
    {
     "name": "stdout",
     "output_type": "stream",
     "text": [
      "cleaned.public-2023-04-09.all.masked.transfer.cladesamples.txt\n"
     ]
    },
    {
     "data": {
      "application/vnd.jupyter.widget-view+json": {
       "model_id": "cb3338c3500c4d78940bb5d3c70ac3ad",
       "version_major": 2,
       "version_minor": 0
      },
      "text/plain": [
       "  0%|          | 0/6937834 [00:00<?, ?it/s]"
      ]
     },
     "metadata": {},
     "output_type": "display_data"
    },
    {
     "name": "stdout",
     "output_type": "stream",
     "text": [
      "cleaned.public-2023-04-10.all.masked.transfer.cladesamples.txt\n"
     ]
    },
    {
     "data": {
      "application/vnd.jupyter.widget-view+json": {
       "model_id": "df3ae90232274fc28ee5e395bf2a4245",
       "version_major": 2,
       "version_minor": 0
      },
      "text/plain": [
       "  0%|          | 0/6937986 [00:00<?, ?it/s]"
      ]
     },
     "metadata": {},
     "output_type": "display_data"
    },
    {
     "name": "stdout",
     "output_type": "stream",
     "text": [
      "cleaned.public-2023-04-11.all.masked.transfer.cladesamples.txt\n"
     ]
    },
    {
     "data": {
      "application/vnd.jupyter.widget-view+json": {
       "model_id": "bdd7412e575d443895e8d92a3dd799d0",
       "version_major": 2,
       "version_minor": 0
      },
      "text/plain": [
       "  0%|          | 0/6937989 [00:00<?, ?it/s]"
      ]
     },
     "metadata": {},
     "output_type": "display_data"
    },
    {
     "name": "stdout",
     "output_type": "stream",
     "text": [
      "cleaned.public-2023-04-12.all.masked.transfer.cladesamples.txt\n"
     ]
    },
    {
     "data": {
      "application/vnd.jupyter.widget-view+json": {
       "model_id": "cad3273c5ae140e59c050b32b4af5af6",
       "version_major": 2,
       "version_minor": 0
      },
      "text/plain": [
       "  0%|          | 0/6938185 [00:00<?, ?it/s]"
      ]
     },
     "metadata": {},
     "output_type": "display_data"
    },
    {
     "name": "stdout",
     "output_type": "stream",
     "text": [
      "cleaned.public-2023-04-13.all.masked.transfer.cladesamples.txt\n"
     ]
    },
    {
     "data": {
      "application/vnd.jupyter.widget-view+json": {
       "model_id": "af590067322341e98090867424ecd785",
       "version_major": 2,
       "version_minor": 0
      },
      "text/plain": [
       "  0%|          | 0/6890384 [00:00<?, ?it/s]"
      ]
     },
     "metadata": {},
     "output_type": "display_data"
    },
    {
     "name": "stdout",
     "output_type": "stream",
     "text": [
      "cleaned.public-2023-04-14.all.masked.transfer.cladesamples.txt\n"
     ]
    },
    {
     "data": {
      "application/vnd.jupyter.widget-view+json": {
       "model_id": "2ba5df7398a94814af20eb42ef3fc476",
       "version_major": 2,
       "version_minor": 0
      },
      "text/plain": [
       "  0%|          | 0/6885220 [00:00<?, ?it/s]"
      ]
     },
     "metadata": {},
     "output_type": "display_data"
    },
    {
     "name": "stdout",
     "output_type": "stream",
     "text": [
      "cleaned.public-2023-04-15.all.masked.transfer.cladesamples.txt\n"
     ]
    },
    {
     "data": {
      "application/vnd.jupyter.widget-view+json": {
       "model_id": "c4dee908fda24d42a3ff3e46948f6939",
       "version_major": 2,
       "version_minor": 0
      },
      "text/plain": [
       "  0%|          | 0/6886518 [00:00<?, ?it/s]"
      ]
     },
     "metadata": {},
     "output_type": "display_data"
    },
    {
     "name": "stdout",
     "output_type": "stream",
     "text": [
      "cleaned.public-2023-04-16.all.masked.transfer.cladesamples.txt\n"
     ]
    },
    {
     "data": {
      "application/vnd.jupyter.widget-view+json": {
       "model_id": "615a79596c314c4abdd2d5975b5492d0",
       "version_major": 2,
       "version_minor": 0
      },
      "text/plain": [
       "  0%|          | 0/6896341 [00:00<?, ?it/s]"
      ]
     },
     "metadata": {},
     "output_type": "display_data"
    },
    {
     "name": "stdout",
     "output_type": "stream",
     "text": [
      "cleaned.public-2023-04-17.all.masked.transfer.cladesamples.txt\n"
     ]
    },
    {
     "data": {
      "application/vnd.jupyter.widget-view+json": {
       "model_id": "ccd902b96d3145f396785e4547cf3d2e",
       "version_major": 2,
       "version_minor": 0
      },
      "text/plain": [
       "  0%|          | 0/6896853 [00:00<?, ?it/s]"
      ]
     },
     "metadata": {},
     "output_type": "display_data"
    },
    {
     "name": "stdout",
     "output_type": "stream",
     "text": [
      "cleaned.public-2023-04-18.all.masked.transfer.cladesamples.txt\n"
     ]
    },
    {
     "data": {
      "application/vnd.jupyter.widget-view+json": {
       "model_id": "0aaf3ec0a2704e7c940d100eb7857917",
       "version_major": 2,
       "version_minor": 0
      },
      "text/plain": [
       "  0%|          | 0/6908965 [00:00<?, ?it/s]"
      ]
     },
     "metadata": {},
     "output_type": "display_data"
    },
    {
     "name": "stdout",
     "output_type": "stream",
     "text": [
      "cleaned.public-2023-04-19.all.masked.transfer.cladesamples.txt\n"
     ]
    },
    {
     "data": {
      "application/vnd.jupyter.widget-view+json": {
       "model_id": "ae9fc525f2524d18bc80d988bc11c185",
       "version_major": 2,
       "version_minor": 0
      },
      "text/plain": [
       "  0%|          | 0/6913788 [00:00<?, ?it/s]"
      ]
     },
     "metadata": {},
     "output_type": "display_data"
    },
    {
     "name": "stdout",
     "output_type": "stream",
     "text": [
      "cleaned.public-2023-04-20.all.masked.transfer.cladesamples.txt\n"
     ]
    },
    {
     "data": {
      "application/vnd.jupyter.widget-view+json": {
       "model_id": "5638c17152d942e3a6712ffb2a76a6f4",
       "version_major": 2,
       "version_minor": 0
      },
      "text/plain": [
       "  0%|          | 0/6915821 [00:00<?, ?it/s]"
      ]
     },
     "metadata": {},
     "output_type": "display_data"
    },
    {
     "name": "stdout",
     "output_type": "stream",
     "text": [
      "cleaned.public-2023-04-21.all.masked.transfer.cladesamples.txt\n"
     ]
    },
    {
     "data": {
      "application/vnd.jupyter.widget-view+json": {
       "model_id": "271d3788605b4282a777e6d692426835",
       "version_major": 2,
       "version_minor": 0
      },
      "text/plain": [
       "  0%|          | 0/6920641 [00:00<?, ?it/s]"
      ]
     },
     "metadata": {},
     "output_type": "display_data"
    },
    {
     "name": "stdout",
     "output_type": "stream",
     "text": [
      "cleaned.public-2023-04-22.all.masked.transfer.cladesamples.txt\n"
     ]
    },
    {
     "data": {
      "application/vnd.jupyter.widget-view+json": {
       "model_id": "8ca4afcb1ef04990ab1602319a2db6f5",
       "version_major": 2,
       "version_minor": 0
      },
      "text/plain": [
       "  0%|          | 0/6921635 [00:00<?, ?it/s]"
      ]
     },
     "metadata": {},
     "output_type": "display_data"
    },
    {
     "name": "stdout",
     "output_type": "stream",
     "text": [
      "cleaned.public-2023-04-23.all.masked.transfer.cladesamples.txt\n"
     ]
    },
    {
     "data": {
      "application/vnd.jupyter.widget-view+json": {
       "model_id": "90340bd48b2e4044adbb2e8bb94938a1",
       "version_major": 2,
       "version_minor": 0
      },
      "text/plain": [
       "  0%|          | 0/6921637 [00:00<?, ?it/s]"
      ]
     },
     "metadata": {},
     "output_type": "display_data"
    },
    {
     "name": "stdout",
     "output_type": "stream",
     "text": [
      "cleaned.public-2023-04-24.all.masked.transfer.cladesamples.txt\n"
     ]
    },
    {
     "data": {
      "application/vnd.jupyter.widget-view+json": {
       "model_id": "bea463666ec243c0bb6d329e15207989",
       "version_major": 2,
       "version_minor": 0
      },
      "text/plain": [
       "  0%|          | 0/6921641 [00:00<?, ?it/s]"
      ]
     },
     "metadata": {},
     "output_type": "display_data"
    },
    {
     "name": "stdout",
     "output_type": "stream",
     "text": [
      "cleaned.public-2023-04-25.all.masked.transfer.cladesamples.txt\n"
     ]
    },
    {
     "data": {
      "application/vnd.jupyter.widget-view+json": {
       "model_id": "30ed4449610341929753ddcec6617575",
       "version_major": 2,
       "version_minor": 0
      },
      "text/plain": [
       "  0%|          | 0/6924058 [00:00<?, ?it/s]"
      ]
     },
     "metadata": {},
     "output_type": "display_data"
    },
    {
     "name": "stdout",
     "output_type": "stream",
     "text": [
      "cleaned.public-2023-04-26.all.masked.transfer.cladesamples.txt\n"
     ]
    },
    {
     "data": {
      "application/vnd.jupyter.widget-view+json": {
       "model_id": "669c7483f408460a8ad602c05a31b421",
       "version_major": 2,
       "version_minor": 0
      },
      "text/plain": [
       "  0%|          | 0/6925289 [00:00<?, ?it/s]"
      ]
     },
     "metadata": {},
     "output_type": "display_data"
    },
    {
     "name": "stdout",
     "output_type": "stream",
     "text": [
      "cleaned.public-2023-04-27.all.masked.transfer.cladesamples.txt\n"
     ]
    },
    {
     "data": {
      "application/vnd.jupyter.widget-view+json": {
       "model_id": "13139005326543b0874b089e02f89390",
       "version_major": 2,
       "version_minor": 0
      },
      "text/plain": [
       "  0%|          | 0/6927334 [00:00<?, ?it/s]"
      ]
     },
     "metadata": {},
     "output_type": "display_data"
    },
    {
     "name": "stdout",
     "output_type": "stream",
     "text": [
      "cleaned.public-2023-04-28.all.masked.transfer.cladesamples.txt\n"
     ]
    },
    {
     "data": {
      "application/vnd.jupyter.widget-view+json": {
       "model_id": "afcbaaaf9b4243759bc63d6b15948cca",
       "version_major": 2,
       "version_minor": 0
      },
      "text/plain": [
       "  0%|          | 0/6930322 [00:00<?, ?it/s]"
      ]
     },
     "metadata": {},
     "output_type": "display_data"
    },
    {
     "name": "stdout",
     "output_type": "stream",
     "text": [
      "cleaned.public-2023-04-29.all.masked.transfer.cladesamples.txt\n"
     ]
    },
    {
     "data": {
      "application/vnd.jupyter.widget-view+json": {
       "model_id": "2f0ddf3de4524ceba3978970a9412c44",
       "version_major": 2,
       "version_minor": 0
      },
      "text/plain": [
       "  0%|          | 0/6934974 [00:00<?, ?it/s]"
      ]
     },
     "metadata": {},
     "output_type": "display_data"
    },
    {
     "name": "stdout",
     "output_type": "stream",
     "text": [
      "cleaned.public-2023-04-30.all.masked.transfer.cladesamples.txt\n"
     ]
    },
    {
     "data": {
      "application/vnd.jupyter.widget-view+json": {
       "model_id": "9ef659ac7c8f4b0ab7d9a231394c0d97",
       "version_major": 2,
       "version_minor": 0
      },
      "text/plain": [
       "  0%|          | 0/6935661 [00:00<?, ?it/s]"
      ]
     },
     "metadata": {},
     "output_type": "display_data"
    },
    {
     "data": {
      "text/html": [
       "<div>\n",
       "<style scoped>\n",
       "    .dataframe tbody tr th:only-of-type {\n",
       "        vertical-align: middle;\n",
       "    }\n",
       "\n",
       "    .dataframe tbody tr th {\n",
       "        vertical-align: top;\n",
       "    }\n",
       "\n",
       "    .dataframe thead th {\n",
       "        text-align: right;\n",
       "    }\n",
       "</style>\n",
       "<table border=\"1\" class=\"dataframe\">\n",
       "  <thead>\n",
       "    <tr style=\"text-align: right;\">\n",
       "      <th></th>\n",
       "      <th>strain</th>\n",
       "      <th>date</th>\n",
       "      <th>lineage</th>\n",
       "    </tr>\n",
       "  </thead>\n",
       "  <tbody>\n",
       "    <tr>\n",
       "      <th>0</th>\n",
       "      <td>Switzerland/BE-Risch-1128R14982/2022|OX384622....</td>\n",
       "      <td>2023-04-01</td>\n",
       "      <td>auto.XBB.1.2</td>\n",
       "    </tr>\n",
       "    <tr>\n",
       "      <th>1</th>\n",
       "      <td>USA/NY-CDC-LC0952300/2022|OQ072427.1|2022-12-02</td>\n",
       "      <td>2023-04-01</td>\n",
       "      <td>auto.XBB.1.2</td>\n",
       "    </tr>\n",
       "    <tr>\n",
       "      <th>2</th>\n",
       "      <td>USA/NJ-CDC-LC0950493/2022|OQ072929.1|2022-12-05</td>\n",
       "      <td>2023-04-01</td>\n",
       "      <td>auto.XBB.1.2</td>\n",
       "    </tr>\n",
       "    <tr>\n",
       "      <th>3</th>\n",
       "      <td>England/DHSC-CYF99XU/2022|2022-12-30</td>\n",
       "      <td>2023-04-01</td>\n",
       "      <td>auto.XBB.1.2</td>\n",
       "    </tr>\n",
       "    <tr>\n",
       "      <th>4</th>\n",
       "      <td>USA/NY-CDC-LC0964118/2022|OQ123241.1|2022-12-17</td>\n",
       "      <td>2023-04-01</td>\n",
       "      <td>auto.XBB.1.2</td>\n",
       "    </tr>\n",
       "    <tr>\n",
       "      <th>...</th>\n",
       "      <td>...</td>\n",
       "      <td>...</td>\n",
       "      <td>...</td>\n",
       "    </tr>\n",
       "    <tr>\n",
       "      <th>296563</th>\n",
       "      <td>England/BRBR-327102DA/2023|OX461798.1|2023-03-23</td>\n",
       "      <td>2023-04-30</td>\n",
       "      <td>auto.B.1.1.529.6</td>\n",
       "    </tr>\n",
       "    <tr>\n",
       "      <th>296564</th>\n",
       "      <td>England/PHEC-YYEI14G/2023|2023-04-19</td>\n",
       "      <td>2023-04-30</td>\n",
       "      <td>auto.XBB.1.9.2.2</td>\n",
       "    </tr>\n",
       "    <tr>\n",
       "      <th>296565</th>\n",
       "      <td>England/PHEC-YYESY4S/2023|2023-04-14</td>\n",
       "      <td>2023-04-30</td>\n",
       "      <td>auto.XBB.1.9.2.2</td>\n",
       "    </tr>\n",
       "    <tr>\n",
       "      <th>296566</th>\n",
       "      <td>USA/NC-CORVASEQ-DUBF2UMF230215A5/2023|OQ559343...</td>\n",
       "      <td>2023-04-30</td>\n",
       "      <td>auto.B.1.1.529.6</td>\n",
       "    </tr>\n",
       "    <tr>\n",
       "      <th>296567</th>\n",
       "      <td>USA/NC-CORVASEQ-DUBF2970230215A5/2023|OQ559341...</td>\n",
       "      <td>2023-04-30</td>\n",
       "      <td>auto.B.1.1.529.6</td>\n",
       "    </tr>\n",
       "  </tbody>\n",
       "</table>\n",
       "<p>296568 rows × 3 columns</p>\n",
       "</div>"
      ],
      "text/plain": [
       "                                                   strain       date  \\\n",
       "0       Switzerland/BE-Risch-1128R14982/2022|OX384622.... 2023-04-01   \n",
       "1         USA/NY-CDC-LC0952300/2022|OQ072427.1|2022-12-02 2023-04-01   \n",
       "2         USA/NJ-CDC-LC0950493/2022|OQ072929.1|2022-12-05 2023-04-01   \n",
       "3                    England/DHSC-CYF99XU/2022|2022-12-30 2023-04-01   \n",
       "4         USA/NY-CDC-LC0964118/2022|OQ123241.1|2022-12-17 2023-04-01   \n",
       "...                                                   ...        ...   \n",
       "296563   England/BRBR-327102DA/2023|OX461798.1|2023-03-23 2023-04-30   \n",
       "296564               England/PHEC-YYEI14G/2023|2023-04-19 2023-04-30   \n",
       "296565               England/PHEC-YYESY4S/2023|2023-04-14 2023-04-30   \n",
       "296566  USA/NC-CORVASEQ-DUBF2UMF230215A5/2023|OQ559343... 2023-04-30   \n",
       "296567  USA/NC-CORVASEQ-DUBF2970230215A5/2023|OQ559341... 2023-04-30   \n",
       "\n",
       "                 lineage  \n",
       "0           auto.XBB.1.2  \n",
       "1           auto.XBB.1.2  \n",
       "2           auto.XBB.1.2  \n",
       "3           auto.XBB.1.2  \n",
       "4           auto.XBB.1.2  \n",
       "...                  ...  \n",
       "296563  auto.B.1.1.529.6  \n",
       "296564  auto.XBB.1.9.2.2  \n",
       "296565  auto.XBB.1.9.2.2  \n",
       "296566  auto.B.1.1.529.6  \n",
       "296567  auto.B.1.1.529.6  \n",
       "\n",
       "[296568 rows x 3 columns]"
      ]
     },
     "execution_count": 216,
     "metadata": {},
     "output_type": "execute_result"
    }
   ],
   "source": [
    "import glob\n",
    "from tqdm.notebook import tqdm\n",
    "tdf = {k:[] for k in ['strain','date','lineage']}\n",
    "target_lins = set(pdf.proposed_sublineage)\n",
    "for f in sorted(glob.glob(\"*transfer.cladesamples.txt\")):\n",
    "    print(f)\n",
    "    substr = f.split(\".\")[1]\n",
    "    date = dt.datetime.strptime(substr[substr.find(\"-\")+1:],'%Y-%m-%d')\n",
    "    with open(f) as inf:\n",
    "        for entry in tqdm(inf.readlines()):\n",
    "            sample, ann = entry.strip().split()\n",
    "            if ann in target_lins:\n",
    "                auto_samples.add(sample)\n",
    "            if sample in auto_samples: #record all samples in the original set, or any added to one of those lineages\n",
    "                tdf['strain'].append(sample)\n",
    "                tdf['date'].append(date)\n",
    "                tdf['lineage'].append(ann)\n",
    "tdf = pd.DataFrame(tdf)\n",
    "tdf"
   ]
  },
  {
   "cell_type": "markdown",
   "id": "f81e1cec",
   "metadata": {},
   "source": [
    "The new lineages cover 8,951 samples initially, growing to 11,877 samples by the end of the month."
   ]
  },
  {
   "cell_type": "code",
   "execution_count": 217,
   "id": "261015f6",
   "metadata": {},
   "outputs": [
    {
     "data": {
      "text/plain": [
       "11877"
      ]
     },
     "execution_count": 217,
     "metadata": {},
     "output_type": "execute_result"
    }
   ],
   "source": [
    "tdf.strain.nunique()"
   ]
  },
  {
   "cell_type": "code",
   "execution_count": 218,
   "id": "267f5d4b",
   "metadata": {},
   "outputs": [
    {
     "data": {
      "text/plain": [
       "8951"
      ]
     },
     "execution_count": 218,
     "metadata": {},
     "output_type": "execute_result"
    }
   ],
   "source": [
    "tdf[tdf.date == dt.datetime(year=2023,month=4,day=1)].strain.nunique()"
   ]
  },
  {
   "cell_type": "markdown",
   "id": "2c1110d7",
   "metadata": {},
   "source": [
    "28 samples are annotated with more than one lineage over this period, implying they changed location on the phylogeny and are a source of lineage instability."
   ]
  },
  {
   "cell_type": "code",
   "execution_count": 219,
   "id": "fc55487b",
   "metadata": {},
   "outputs": [
    {
     "data": {
      "text/plain": [
       "1    11849\n",
       "2       28\n",
       "Name: lineage, dtype: int64"
      ]
     },
     "execution_count": 219,
     "metadata": {},
     "output_type": "execute_result"
    }
   ],
   "source": [
    "sli = tdf.groupby(\"strain\").lineage.nunique()\n",
    "sli.value_counts()"
   ]
  },
  {
   "cell_type": "code",
   "execution_count": 220,
   "id": "142ebcab",
   "metadata": {},
   "outputs": [
    {
     "data": {
      "text/plain": [
       "['IND/2947/2023|OQ701301.1|2023-03-10',\n",
       " 'Scotland/SCOT-24049/2022|OX435521.1|2022-12-31',\n",
       " 'Scotland/SCOT-26462/2023|2023-02-21',\n",
       " 'Scotland/SCOT-26462/2023|OX451476.1|2023-02-21',\n",
       " 'Scotland/SCOT-26819/2023|2023-02-21',\n",
       " 'Scotland/SCOT-26819/2023|OX453590.1|2023-02-21',\n",
       " 'Scotland/SCOT-26821/2023|2023-02-21',\n",
       " 'Scotland/SCOT-26821/2023|OX453648.1|2023-02-21',\n",
       " 'Scotland/SCOT-27434/2023|OX457315.1|2023-03-02',\n",
       " 'Scotland/SCOT-28483/2023|2023-03-12',\n",
       " 'Scotland/SCOT-28483/2023|OX462874.1|2023-03-12',\n",
       " 'USA/CA-CDC-QDX48192978/2023|OQ728437.1|2023-03-20',\n",
       " 'USA/CA-CDC-QDX48192979/2023|OQ728624.1|2023-03-20',\n",
       " 'USA/FL-CDC-QDX47418754/2023|OQ644056.1|2023-03-01',\n",
       " 'USA/FL-CDC-QDX48193288/2023|OQ782385.1|2023-03-21',\n",
       " 'USA/FL-CDC-QDX48587517/2023|OQ827304.1|2023-03-31',\n",
       " 'USA/LA-BIE-LSUH003690/2023|OQ736767.1|2023-03-20',\n",
       " 'USA/LA-BIE-LSUH003692/2023|OQ736769.1|2023-03-22',\n",
       " 'USA/M00621433-F1-1/2023|OQ820697.1|2023-03-29',\n",
       " 'USA/NJ-CDC-QDX48685195/2023|OQ827907.1|2023-04-03',\n",
       " 'USA/NV-CDC-LC1035085/2023|OQ808432.1|2023-03-30',\n",
       " 'USA/NY-CDC-QDX47311927/2023|OQ610887.1|2023-02-27',\n",
       " 'USA/PA-CDC-QDX46827201/2023|OQ577387.1|2023-02-14',\n",
       " 'USA/PA-CDC-QDX47973735/2023|OQ713000.1|2023-03-15',\n",
       " 'USA/TX-CDC-QDX47418188/2023|OQ643781.1|2023-02-28',\n",
       " 'USA/VA-CDC-LC1031818/2023|OQ734369.1|2023-03-25',\n",
       " 'USA/WA-CDC-UW23032239573/2023|OQ833295.1|2023-03-22',\n",
       " 'USA/WI-CDC-VSX-A065209/2023|OQ748644.1|2023-03-22']"
      ]
     },
     "execution_count": 220,
     "metadata": {},
     "output_type": "execute_result"
    }
   ],
   "source": [
    "unstable = [i for i in sli.index if sli[i] == 2]\n",
    "unstable"
   ]
  },
  {
   "cell_type": "markdown",
   "id": "b497df07",
   "metadata": {},
   "source": [
    "Four lineages are affected by these samples, with 16 being in auto.XBB.1.5.40."
   ]
  },
  {
   "cell_type": "code",
   "execution_count": 225,
   "id": "b04f7918",
   "metadata": {},
   "outputs": [
    {
     "data": {
      "text/plain": [
       "lineage\n",
       "None                 28\n",
       "auto.B.1.1.529.6      2\n",
       "auto.XBB.1.16.1.1     2\n",
       "auto.XBB.1.5.40      16\n",
       "auto.XBB.1.5.8.1      8\n",
       "Name: strain, dtype: int64"
      ]
     },
     "execution_count": 225,
     "metadata": {},
     "output_type": "execute_result"
    }
   ],
   "source": [
    "tdf[tdf.strain.isin(unstable)].groupby(\"lineage\").strain.nunique()"
   ]
  },
  {
   "cell_type": "markdown",
   "id": "bf1d952f",
   "metadata": {},
   "source": [
    "Now we create a smaller dataframe summarizing the changes of these 28 samples."
   ]
  },
  {
   "cell_type": "code",
   "execution_count": 227,
   "id": "01dfb642",
   "metadata": {},
   "outputs": [
    {
     "data": {
      "text/html": [
       "<div>\n",
       "<style scoped>\n",
       "    .dataframe tbody tr th:only-of-type {\n",
       "        vertical-align: middle;\n",
       "    }\n",
       "\n",
       "    .dataframe tbody tr th {\n",
       "        vertical-align: top;\n",
       "    }\n",
       "\n",
       "    .dataframe thead th {\n",
       "        text-align: right;\n",
       "    }\n",
       "</style>\n",
       "<table border=\"1\" class=\"dataframe\">\n",
       "  <thead>\n",
       "    <tr style=\"text-align: right;\">\n",
       "      <th></th>\n",
       "      <th>strain</th>\n",
       "      <th>moved_from</th>\n",
       "      <th>moved_to</th>\n",
       "      <th>on</th>\n",
       "    </tr>\n",
       "  </thead>\n",
       "  <tbody>\n",
       "    <tr>\n",
       "      <th>0</th>\n",
       "      <td>IND/2947/2023|OQ701301.1|2023-03-10</td>\n",
       "      <td>None</td>\n",
       "      <td>auto.XBB.1.16.1.1</td>\n",
       "      <td>2023-04-02</td>\n",
       "    </tr>\n",
       "    <tr>\n",
       "      <th>1</th>\n",
       "      <td>Scotland/SCOT-24049/2022|OX435521.1|2022-12-31</td>\n",
       "      <td>auto.B.1.1.529.6</td>\n",
       "      <td>None</td>\n",
       "      <td>2023-04-02</td>\n",
       "    </tr>\n",
       "    <tr>\n",
       "      <th>2</th>\n",
       "      <td>Scotland/SCOT-26462/2023|2023-02-21</td>\n",
       "      <td>None</td>\n",
       "      <td>auto.XBB.1.5.8.1</td>\n",
       "      <td>2023-04-02</td>\n",
       "    </tr>\n",
       "    <tr>\n",
       "      <th>3</th>\n",
       "      <td>Scotland/SCOT-26462/2023|OX451476.1|2023-02-21</td>\n",
       "      <td>None</td>\n",
       "      <td>auto.XBB.1.5.8.1</td>\n",
       "      <td>2023-04-15</td>\n",
       "    </tr>\n",
       "    <tr>\n",
       "      <th>4</th>\n",
       "      <td>Scotland/SCOT-26819/2023|2023-02-21</td>\n",
       "      <td>None</td>\n",
       "      <td>auto.XBB.1.5.8.1</td>\n",
       "      <td>2023-04-02</td>\n",
       "    </tr>\n",
       "    <tr>\n",
       "      <th>5</th>\n",
       "      <td>Scotland/SCOT-26819/2023|OX453590.1|2023-02-21</td>\n",
       "      <td>None</td>\n",
       "      <td>auto.XBB.1.5.8.1</td>\n",
       "      <td>2023-04-15</td>\n",
       "    </tr>\n",
       "    <tr>\n",
       "      <th>6</th>\n",
       "      <td>Scotland/SCOT-26821/2023|2023-02-21</td>\n",
       "      <td>None</td>\n",
       "      <td>auto.XBB.1.5.8.1</td>\n",
       "      <td>2023-04-02</td>\n",
       "    </tr>\n",
       "    <tr>\n",
       "      <th>7</th>\n",
       "      <td>Scotland/SCOT-26821/2023|OX453648.1|2023-02-21</td>\n",
       "      <td>None</td>\n",
       "      <td>auto.XBB.1.5.8.1</td>\n",
       "      <td>2023-04-15</td>\n",
       "    </tr>\n",
       "    <tr>\n",
       "      <th>8</th>\n",
       "      <td>Scotland/SCOT-27434/2023|OX457315.1|2023-03-02</td>\n",
       "      <td>None</td>\n",
       "      <td>auto.B.1.1.529.6</td>\n",
       "      <td>2023-04-02</td>\n",
       "    </tr>\n",
       "    <tr>\n",
       "      <th>9</th>\n",
       "      <td>Scotland/SCOT-28483/2023|2023-03-12</td>\n",
       "      <td>None</td>\n",
       "      <td>auto.XBB.1.5.8.1</td>\n",
       "      <td>2023-04-06</td>\n",
       "    </tr>\n",
       "    <tr>\n",
       "      <th>10</th>\n",
       "      <td>Scotland/SCOT-28483/2023|OX462874.1|2023-03-12</td>\n",
       "      <td>None</td>\n",
       "      <td>auto.XBB.1.5.8.1</td>\n",
       "      <td>2023-04-21</td>\n",
       "    </tr>\n",
       "    <tr>\n",
       "      <th>11</th>\n",
       "      <td>USA/CA-CDC-QDX48192978/2023|OQ728437.1|2023-03-20</td>\n",
       "      <td>None</td>\n",
       "      <td>auto.XBB.1.5.40</td>\n",
       "      <td>2023-04-05</td>\n",
       "    </tr>\n",
       "    <tr>\n",
       "      <th>12</th>\n",
       "      <td>USA/CA-CDC-QDX48192979/2023|OQ728624.1|2023-03-20</td>\n",
       "      <td>None</td>\n",
       "      <td>auto.XBB.1.5.40</td>\n",
       "      <td>2023-04-05</td>\n",
       "    </tr>\n",
       "    <tr>\n",
       "      <th>13</th>\n",
       "      <td>USA/FL-CDC-QDX47418754/2023|OQ644056.1|2023-03-01</td>\n",
       "      <td>auto.XBB.1.5.40</td>\n",
       "      <td>None</td>\n",
       "      <td>2023-04-02</td>\n",
       "    </tr>\n",
       "    <tr>\n",
       "      <th>14</th>\n",
       "      <td>USA/FL-CDC-QDX48193288/2023|OQ782385.1|2023-03-21</td>\n",
       "      <td>auto.XBB.1.5.40</td>\n",
       "      <td>None</td>\n",
       "      <td>2023-04-17</td>\n",
       "    </tr>\n",
       "    <tr>\n",
       "      <th>15</th>\n",
       "      <td>USA/FL-CDC-QDX48587517/2023|OQ827304.1|2023-03-31</td>\n",
       "      <td>None</td>\n",
       "      <td>auto.XBB.1.5.40</td>\n",
       "      <td>2023-04-22</td>\n",
       "    </tr>\n",
       "    <tr>\n",
       "      <th>16</th>\n",
       "      <td>USA/LA-BIE-LSUH003690/2023|OQ736767.1|2023-03-20</td>\n",
       "      <td>None</td>\n",
       "      <td>auto.XBB.1.5.40</td>\n",
       "      <td>2023-04-06</td>\n",
       "    </tr>\n",
       "    <tr>\n",
       "      <th>17</th>\n",
       "      <td>USA/LA-BIE-LSUH003692/2023|OQ736769.1|2023-03-22</td>\n",
       "      <td>None</td>\n",
       "      <td>auto.XBB.1.5.40</td>\n",
       "      <td>2023-04-06</td>\n",
       "    </tr>\n",
       "    <tr>\n",
       "      <th>18</th>\n",
       "      <td>USA/M00621433-F1-1/2023|OQ820697.1|2023-03-29</td>\n",
       "      <td>auto.XBB.1.5.40</td>\n",
       "      <td>None</td>\n",
       "      <td>2023-04-20</td>\n",
       "    </tr>\n",
       "    <tr>\n",
       "      <th>19</th>\n",
       "      <td>USA/NJ-CDC-QDX48685195/2023|OQ827907.1|2023-04-03</td>\n",
       "      <td>None</td>\n",
       "      <td>auto.XBB.1.5.40</td>\n",
       "      <td>2023-04-22</td>\n",
       "    </tr>\n",
       "    <tr>\n",
       "      <th>20</th>\n",
       "      <td>USA/NV-CDC-LC1035085/2023|OQ808432.1|2023-03-30</td>\n",
       "      <td>None</td>\n",
       "      <td>auto.XBB.1.5.40</td>\n",
       "      <td>2023-04-19</td>\n",
       "    </tr>\n",
       "    <tr>\n",
       "      <th>21</th>\n",
       "      <td>USA/NY-CDC-QDX47311927/2023|OQ610887.1|2023-02-27</td>\n",
       "      <td>auto.XBB.1.5.40</td>\n",
       "      <td>None</td>\n",
       "      <td>2023-04-02</td>\n",
       "    </tr>\n",
       "    <tr>\n",
       "      <th>22</th>\n",
       "      <td>USA/PA-CDC-QDX46827201/2023|OQ577387.1|2023-02-14</td>\n",
       "      <td>auto.XBB.1.5.40</td>\n",
       "      <td>None</td>\n",
       "      <td>2023-04-02</td>\n",
       "    </tr>\n",
       "    <tr>\n",
       "      <th>23</th>\n",
       "      <td>USA/PA-CDC-QDX47973735/2023|OQ713000.1|2023-03-15</td>\n",
       "      <td>auto.XBB.1.5.40</td>\n",
       "      <td>None</td>\n",
       "      <td>2023-04-02</td>\n",
       "    </tr>\n",
       "    <tr>\n",
       "      <th>24</th>\n",
       "      <td>USA/TX-CDC-QDX47418188/2023|OQ643781.1|2023-02-28</td>\n",
       "      <td>None</td>\n",
       "      <td>auto.XBB.1.5.40</td>\n",
       "      <td>2023-04-02</td>\n",
       "    </tr>\n",
       "    <tr>\n",
       "      <th>25</th>\n",
       "      <td>USA/VA-CDC-LC1031818/2023|OQ734369.1|2023-03-25</td>\n",
       "      <td>auto.XBB.1.5.40</td>\n",
       "      <td>None</td>\n",
       "      <td>2023-04-06</td>\n",
       "    </tr>\n",
       "    <tr>\n",
       "      <th>26</th>\n",
       "      <td>USA/WA-CDC-UW23032239573/2023|OQ833295.1|2023-...</td>\n",
       "      <td>None</td>\n",
       "      <td>auto.XBB.1.5.40</td>\n",
       "      <td>2023-04-22</td>\n",
       "    </tr>\n",
       "    <tr>\n",
       "      <th>27</th>\n",
       "      <td>USA/WI-CDC-VSX-A065209/2023|OQ748644.1|2023-03-22</td>\n",
       "      <td>None</td>\n",
       "      <td>auto.XBB.1.16.1.1</td>\n",
       "      <td>2023-04-08</td>\n",
       "    </tr>\n",
       "  </tbody>\n",
       "</table>\n",
       "</div>"
      ],
      "text/plain": [
       "                                               strain        moved_from  \\\n",
       "0                 IND/2947/2023|OQ701301.1|2023-03-10              None   \n",
       "1      Scotland/SCOT-24049/2022|OX435521.1|2022-12-31  auto.B.1.1.529.6   \n",
       "2                 Scotland/SCOT-26462/2023|2023-02-21              None   \n",
       "3      Scotland/SCOT-26462/2023|OX451476.1|2023-02-21              None   \n",
       "4                 Scotland/SCOT-26819/2023|2023-02-21              None   \n",
       "5      Scotland/SCOT-26819/2023|OX453590.1|2023-02-21              None   \n",
       "6                 Scotland/SCOT-26821/2023|2023-02-21              None   \n",
       "7      Scotland/SCOT-26821/2023|OX453648.1|2023-02-21              None   \n",
       "8      Scotland/SCOT-27434/2023|OX457315.1|2023-03-02              None   \n",
       "9                 Scotland/SCOT-28483/2023|2023-03-12              None   \n",
       "10     Scotland/SCOT-28483/2023|OX462874.1|2023-03-12              None   \n",
       "11  USA/CA-CDC-QDX48192978/2023|OQ728437.1|2023-03-20              None   \n",
       "12  USA/CA-CDC-QDX48192979/2023|OQ728624.1|2023-03-20              None   \n",
       "13  USA/FL-CDC-QDX47418754/2023|OQ644056.1|2023-03-01   auto.XBB.1.5.40   \n",
       "14  USA/FL-CDC-QDX48193288/2023|OQ782385.1|2023-03-21   auto.XBB.1.5.40   \n",
       "15  USA/FL-CDC-QDX48587517/2023|OQ827304.1|2023-03-31              None   \n",
       "16   USA/LA-BIE-LSUH003690/2023|OQ736767.1|2023-03-20              None   \n",
       "17   USA/LA-BIE-LSUH003692/2023|OQ736769.1|2023-03-22              None   \n",
       "18      USA/M00621433-F1-1/2023|OQ820697.1|2023-03-29   auto.XBB.1.5.40   \n",
       "19  USA/NJ-CDC-QDX48685195/2023|OQ827907.1|2023-04-03              None   \n",
       "20    USA/NV-CDC-LC1035085/2023|OQ808432.1|2023-03-30              None   \n",
       "21  USA/NY-CDC-QDX47311927/2023|OQ610887.1|2023-02-27   auto.XBB.1.5.40   \n",
       "22  USA/PA-CDC-QDX46827201/2023|OQ577387.1|2023-02-14   auto.XBB.1.5.40   \n",
       "23  USA/PA-CDC-QDX47973735/2023|OQ713000.1|2023-03-15   auto.XBB.1.5.40   \n",
       "24  USA/TX-CDC-QDX47418188/2023|OQ643781.1|2023-02-28              None   \n",
       "25    USA/VA-CDC-LC1031818/2023|OQ734369.1|2023-03-25   auto.XBB.1.5.40   \n",
       "26  USA/WA-CDC-UW23032239573/2023|OQ833295.1|2023-...              None   \n",
       "27  USA/WI-CDC-VSX-A065209/2023|OQ748644.1|2023-03-22              None   \n",
       "\n",
       "             moved_to         on  \n",
       "0   auto.XBB.1.16.1.1 2023-04-02  \n",
       "1                None 2023-04-02  \n",
       "2    auto.XBB.1.5.8.1 2023-04-02  \n",
       "3    auto.XBB.1.5.8.1 2023-04-15  \n",
       "4    auto.XBB.1.5.8.1 2023-04-02  \n",
       "5    auto.XBB.1.5.8.1 2023-04-15  \n",
       "6    auto.XBB.1.5.8.1 2023-04-02  \n",
       "7    auto.XBB.1.5.8.1 2023-04-15  \n",
       "8    auto.B.1.1.529.6 2023-04-02  \n",
       "9    auto.XBB.1.5.8.1 2023-04-06  \n",
       "10   auto.XBB.1.5.8.1 2023-04-21  \n",
       "11    auto.XBB.1.5.40 2023-04-05  \n",
       "12    auto.XBB.1.5.40 2023-04-05  \n",
       "13               None 2023-04-02  \n",
       "14               None 2023-04-17  \n",
       "15    auto.XBB.1.5.40 2023-04-22  \n",
       "16    auto.XBB.1.5.40 2023-04-06  \n",
       "17    auto.XBB.1.5.40 2023-04-06  \n",
       "18               None 2023-04-20  \n",
       "19    auto.XBB.1.5.40 2023-04-22  \n",
       "20    auto.XBB.1.5.40 2023-04-19  \n",
       "21               None 2023-04-02  \n",
       "22               None 2023-04-02  \n",
       "23               None 2023-04-02  \n",
       "24    auto.XBB.1.5.40 2023-04-02  \n",
       "25               None 2023-04-06  \n",
       "26    auto.XBB.1.5.40 2023-04-22  \n",
       "27  auto.XBB.1.16.1.1 2023-04-08  "
      ]
     },
     "execution_count": 227,
     "metadata": {},
     "output_type": "execute_result"
    }
   ],
   "source": [
    "statedf = {k:[] for k in ['strain','moved_from','moved_to','on']}\n",
    "for strain, sdf in tdf[tdf.strain.isin(unstable)].groupby(\"strain\"):\n",
    "    datev = sdf.groupby(\"lineage\").date.min()\n",
    "    statedf['strain'].append(strain)\n",
    "    statedf['moved_from'].append(datev.idxmin())\n",
    "    statedf['moved_to'].append(datev.idxmax())\n",
    "    statedf['on'].append(datev.min()+dt.timedelta(days=1))\n",
    "statedf = pd.DataFrame(statedf)\n",
    "statedf"
   ]
  },
  {
   "cell_type": "code",
   "execution_count": 228,
   "id": "669881b8",
   "metadata": {},
   "outputs": [
    {
     "data": {
      "text/html": [
       "<div>\n",
       "<style scoped>\n",
       "    .dataframe tbody tr th:only-of-type {\n",
       "        vertical-align: middle;\n",
       "    }\n",
       "\n",
       "    .dataframe tbody tr th {\n",
       "        vertical-align: top;\n",
       "    }\n",
       "\n",
       "    .dataframe thead th {\n",
       "        text-align: right;\n",
       "    }\n",
       "</style>\n",
       "<table border=\"1\" class=\"dataframe\">\n",
       "  <thead>\n",
       "    <tr style=\"text-align: right;\">\n",
       "      <th></th>\n",
       "      <th>strain</th>\n",
       "      <th>moved_from</th>\n",
       "      <th>moved_to</th>\n",
       "      <th>on</th>\n",
       "      <th>gained</th>\n",
       "    </tr>\n",
       "  </thead>\n",
       "  <tbody>\n",
       "    <tr>\n",
       "      <th>0</th>\n",
       "      <td>IND/2947/2023|OQ701301.1|2023-03-10</td>\n",
       "      <td>None</td>\n",
       "      <td>auto.XBB.1.16.1.1</td>\n",
       "      <td>2023-04-02</td>\n",
       "      <td>True</td>\n",
       "    </tr>\n",
       "    <tr>\n",
       "      <th>1</th>\n",
       "      <td>Scotland/SCOT-24049/2022|OX435521.1|2022-12-31</td>\n",
       "      <td>auto.B.1.1.529.6</td>\n",
       "      <td>None</td>\n",
       "      <td>2023-04-02</td>\n",
       "      <td>False</td>\n",
       "    </tr>\n",
       "    <tr>\n",
       "      <th>2</th>\n",
       "      <td>Scotland/SCOT-26462/2023|2023-02-21</td>\n",
       "      <td>None</td>\n",
       "      <td>auto.XBB.1.5.8.1</td>\n",
       "      <td>2023-04-02</td>\n",
       "      <td>True</td>\n",
       "    </tr>\n",
       "    <tr>\n",
       "      <th>3</th>\n",
       "      <td>Scotland/SCOT-26462/2023|OX451476.1|2023-02-21</td>\n",
       "      <td>None</td>\n",
       "      <td>auto.XBB.1.5.8.1</td>\n",
       "      <td>2023-04-15</td>\n",
       "      <td>True</td>\n",
       "    </tr>\n",
       "    <tr>\n",
       "      <th>4</th>\n",
       "      <td>Scotland/SCOT-26819/2023|2023-02-21</td>\n",
       "      <td>None</td>\n",
       "      <td>auto.XBB.1.5.8.1</td>\n",
       "      <td>2023-04-02</td>\n",
       "      <td>True</td>\n",
       "    </tr>\n",
       "    <tr>\n",
       "      <th>5</th>\n",
       "      <td>Scotland/SCOT-26819/2023|OX453590.1|2023-02-21</td>\n",
       "      <td>None</td>\n",
       "      <td>auto.XBB.1.5.8.1</td>\n",
       "      <td>2023-04-15</td>\n",
       "      <td>True</td>\n",
       "    </tr>\n",
       "    <tr>\n",
       "      <th>6</th>\n",
       "      <td>Scotland/SCOT-26821/2023|2023-02-21</td>\n",
       "      <td>None</td>\n",
       "      <td>auto.XBB.1.5.8.1</td>\n",
       "      <td>2023-04-02</td>\n",
       "      <td>True</td>\n",
       "    </tr>\n",
       "    <tr>\n",
       "      <th>7</th>\n",
       "      <td>Scotland/SCOT-26821/2023|OX453648.1|2023-02-21</td>\n",
       "      <td>None</td>\n",
       "      <td>auto.XBB.1.5.8.1</td>\n",
       "      <td>2023-04-15</td>\n",
       "      <td>True</td>\n",
       "    </tr>\n",
       "    <tr>\n",
       "      <th>8</th>\n",
       "      <td>Scotland/SCOT-27434/2023|OX457315.1|2023-03-02</td>\n",
       "      <td>None</td>\n",
       "      <td>auto.B.1.1.529.6</td>\n",
       "      <td>2023-04-02</td>\n",
       "      <td>True</td>\n",
       "    </tr>\n",
       "    <tr>\n",
       "      <th>9</th>\n",
       "      <td>Scotland/SCOT-28483/2023|2023-03-12</td>\n",
       "      <td>None</td>\n",
       "      <td>auto.XBB.1.5.8.1</td>\n",
       "      <td>2023-04-06</td>\n",
       "      <td>True</td>\n",
       "    </tr>\n",
       "    <tr>\n",
       "      <th>10</th>\n",
       "      <td>Scotland/SCOT-28483/2023|OX462874.1|2023-03-12</td>\n",
       "      <td>None</td>\n",
       "      <td>auto.XBB.1.5.8.1</td>\n",
       "      <td>2023-04-21</td>\n",
       "      <td>True</td>\n",
       "    </tr>\n",
       "    <tr>\n",
       "      <th>11</th>\n",
       "      <td>USA/CA-CDC-QDX48192978/2023|OQ728437.1|2023-03-20</td>\n",
       "      <td>None</td>\n",
       "      <td>auto.XBB.1.5.40</td>\n",
       "      <td>2023-04-05</td>\n",
       "      <td>True</td>\n",
       "    </tr>\n",
       "    <tr>\n",
       "      <th>12</th>\n",
       "      <td>USA/CA-CDC-QDX48192979/2023|OQ728624.1|2023-03-20</td>\n",
       "      <td>None</td>\n",
       "      <td>auto.XBB.1.5.40</td>\n",
       "      <td>2023-04-05</td>\n",
       "      <td>True</td>\n",
       "    </tr>\n",
       "    <tr>\n",
       "      <th>13</th>\n",
       "      <td>USA/FL-CDC-QDX47418754/2023|OQ644056.1|2023-03-01</td>\n",
       "      <td>auto.XBB.1.5.40</td>\n",
       "      <td>None</td>\n",
       "      <td>2023-04-02</td>\n",
       "      <td>False</td>\n",
       "    </tr>\n",
       "    <tr>\n",
       "      <th>14</th>\n",
       "      <td>USA/FL-CDC-QDX48193288/2023|OQ782385.1|2023-03-21</td>\n",
       "      <td>auto.XBB.1.5.40</td>\n",
       "      <td>None</td>\n",
       "      <td>2023-04-17</td>\n",
       "      <td>False</td>\n",
       "    </tr>\n",
       "    <tr>\n",
       "      <th>15</th>\n",
       "      <td>USA/FL-CDC-QDX48587517/2023|OQ827304.1|2023-03-31</td>\n",
       "      <td>None</td>\n",
       "      <td>auto.XBB.1.5.40</td>\n",
       "      <td>2023-04-22</td>\n",
       "      <td>True</td>\n",
       "    </tr>\n",
       "    <tr>\n",
       "      <th>16</th>\n",
       "      <td>USA/LA-BIE-LSUH003690/2023|OQ736767.1|2023-03-20</td>\n",
       "      <td>None</td>\n",
       "      <td>auto.XBB.1.5.40</td>\n",
       "      <td>2023-04-06</td>\n",
       "      <td>True</td>\n",
       "    </tr>\n",
       "    <tr>\n",
       "      <th>17</th>\n",
       "      <td>USA/LA-BIE-LSUH003692/2023|OQ736769.1|2023-03-22</td>\n",
       "      <td>None</td>\n",
       "      <td>auto.XBB.1.5.40</td>\n",
       "      <td>2023-04-06</td>\n",
       "      <td>True</td>\n",
       "    </tr>\n",
       "    <tr>\n",
       "      <th>18</th>\n",
       "      <td>USA/M00621433-F1-1/2023|OQ820697.1|2023-03-29</td>\n",
       "      <td>auto.XBB.1.5.40</td>\n",
       "      <td>None</td>\n",
       "      <td>2023-04-20</td>\n",
       "      <td>False</td>\n",
       "    </tr>\n",
       "    <tr>\n",
       "      <th>19</th>\n",
       "      <td>USA/NJ-CDC-QDX48685195/2023|OQ827907.1|2023-04-03</td>\n",
       "      <td>None</td>\n",
       "      <td>auto.XBB.1.5.40</td>\n",
       "      <td>2023-04-22</td>\n",
       "      <td>True</td>\n",
       "    </tr>\n",
       "    <tr>\n",
       "      <th>20</th>\n",
       "      <td>USA/NV-CDC-LC1035085/2023|OQ808432.1|2023-03-30</td>\n",
       "      <td>None</td>\n",
       "      <td>auto.XBB.1.5.40</td>\n",
       "      <td>2023-04-19</td>\n",
       "      <td>True</td>\n",
       "    </tr>\n",
       "    <tr>\n",
       "      <th>21</th>\n",
       "      <td>USA/NY-CDC-QDX47311927/2023|OQ610887.1|2023-02-27</td>\n",
       "      <td>auto.XBB.1.5.40</td>\n",
       "      <td>None</td>\n",
       "      <td>2023-04-02</td>\n",
       "      <td>False</td>\n",
       "    </tr>\n",
       "    <tr>\n",
       "      <th>22</th>\n",
       "      <td>USA/PA-CDC-QDX46827201/2023|OQ577387.1|2023-02-14</td>\n",
       "      <td>auto.XBB.1.5.40</td>\n",
       "      <td>None</td>\n",
       "      <td>2023-04-02</td>\n",
       "      <td>False</td>\n",
       "    </tr>\n",
       "    <tr>\n",
       "      <th>23</th>\n",
       "      <td>USA/PA-CDC-QDX47973735/2023|OQ713000.1|2023-03-15</td>\n",
       "      <td>auto.XBB.1.5.40</td>\n",
       "      <td>None</td>\n",
       "      <td>2023-04-02</td>\n",
       "      <td>False</td>\n",
       "    </tr>\n",
       "    <tr>\n",
       "      <th>24</th>\n",
       "      <td>USA/TX-CDC-QDX47418188/2023|OQ643781.1|2023-02-28</td>\n",
       "      <td>None</td>\n",
       "      <td>auto.XBB.1.5.40</td>\n",
       "      <td>2023-04-02</td>\n",
       "      <td>True</td>\n",
       "    </tr>\n",
       "    <tr>\n",
       "      <th>25</th>\n",
       "      <td>USA/VA-CDC-LC1031818/2023|OQ734369.1|2023-03-25</td>\n",
       "      <td>auto.XBB.1.5.40</td>\n",
       "      <td>None</td>\n",
       "      <td>2023-04-06</td>\n",
       "      <td>False</td>\n",
       "    </tr>\n",
       "    <tr>\n",
       "      <th>26</th>\n",
       "      <td>USA/WA-CDC-UW23032239573/2023|OQ833295.1|2023-...</td>\n",
       "      <td>None</td>\n",
       "      <td>auto.XBB.1.5.40</td>\n",
       "      <td>2023-04-22</td>\n",
       "      <td>True</td>\n",
       "    </tr>\n",
       "    <tr>\n",
       "      <th>27</th>\n",
       "      <td>USA/WI-CDC-VSX-A065209/2023|OQ748644.1|2023-03-22</td>\n",
       "      <td>None</td>\n",
       "      <td>auto.XBB.1.16.1.1</td>\n",
       "      <td>2023-04-08</td>\n",
       "      <td>True</td>\n",
       "    </tr>\n",
       "  </tbody>\n",
       "</table>\n",
       "</div>"
      ],
      "text/plain": [
       "                                               strain        moved_from  \\\n",
       "0                 IND/2947/2023|OQ701301.1|2023-03-10              None   \n",
       "1      Scotland/SCOT-24049/2022|OX435521.1|2022-12-31  auto.B.1.1.529.6   \n",
       "2                 Scotland/SCOT-26462/2023|2023-02-21              None   \n",
       "3      Scotland/SCOT-26462/2023|OX451476.1|2023-02-21              None   \n",
       "4                 Scotland/SCOT-26819/2023|2023-02-21              None   \n",
       "5      Scotland/SCOT-26819/2023|OX453590.1|2023-02-21              None   \n",
       "6                 Scotland/SCOT-26821/2023|2023-02-21              None   \n",
       "7      Scotland/SCOT-26821/2023|OX453648.1|2023-02-21              None   \n",
       "8      Scotland/SCOT-27434/2023|OX457315.1|2023-03-02              None   \n",
       "9                 Scotland/SCOT-28483/2023|2023-03-12              None   \n",
       "10     Scotland/SCOT-28483/2023|OX462874.1|2023-03-12              None   \n",
       "11  USA/CA-CDC-QDX48192978/2023|OQ728437.1|2023-03-20              None   \n",
       "12  USA/CA-CDC-QDX48192979/2023|OQ728624.1|2023-03-20              None   \n",
       "13  USA/FL-CDC-QDX47418754/2023|OQ644056.1|2023-03-01   auto.XBB.1.5.40   \n",
       "14  USA/FL-CDC-QDX48193288/2023|OQ782385.1|2023-03-21   auto.XBB.1.5.40   \n",
       "15  USA/FL-CDC-QDX48587517/2023|OQ827304.1|2023-03-31              None   \n",
       "16   USA/LA-BIE-LSUH003690/2023|OQ736767.1|2023-03-20              None   \n",
       "17   USA/LA-BIE-LSUH003692/2023|OQ736769.1|2023-03-22              None   \n",
       "18      USA/M00621433-F1-1/2023|OQ820697.1|2023-03-29   auto.XBB.1.5.40   \n",
       "19  USA/NJ-CDC-QDX48685195/2023|OQ827907.1|2023-04-03              None   \n",
       "20    USA/NV-CDC-LC1035085/2023|OQ808432.1|2023-03-30              None   \n",
       "21  USA/NY-CDC-QDX47311927/2023|OQ610887.1|2023-02-27   auto.XBB.1.5.40   \n",
       "22  USA/PA-CDC-QDX46827201/2023|OQ577387.1|2023-02-14   auto.XBB.1.5.40   \n",
       "23  USA/PA-CDC-QDX47973735/2023|OQ713000.1|2023-03-15   auto.XBB.1.5.40   \n",
       "24  USA/TX-CDC-QDX47418188/2023|OQ643781.1|2023-02-28              None   \n",
       "25    USA/VA-CDC-LC1031818/2023|OQ734369.1|2023-03-25   auto.XBB.1.5.40   \n",
       "26  USA/WA-CDC-UW23032239573/2023|OQ833295.1|2023-...              None   \n",
       "27  USA/WI-CDC-VSX-A065209/2023|OQ748644.1|2023-03-22              None   \n",
       "\n",
       "             moved_to         on  gained  \n",
       "0   auto.XBB.1.16.1.1 2023-04-02    True  \n",
       "1                None 2023-04-02   False  \n",
       "2    auto.XBB.1.5.8.1 2023-04-02    True  \n",
       "3    auto.XBB.1.5.8.1 2023-04-15    True  \n",
       "4    auto.XBB.1.5.8.1 2023-04-02    True  \n",
       "5    auto.XBB.1.5.8.1 2023-04-15    True  \n",
       "6    auto.XBB.1.5.8.1 2023-04-02    True  \n",
       "7    auto.XBB.1.5.8.1 2023-04-15    True  \n",
       "8    auto.B.1.1.529.6 2023-04-02    True  \n",
       "9    auto.XBB.1.5.8.1 2023-04-06    True  \n",
       "10   auto.XBB.1.5.8.1 2023-04-21    True  \n",
       "11    auto.XBB.1.5.40 2023-04-05    True  \n",
       "12    auto.XBB.1.5.40 2023-04-05    True  \n",
       "13               None 2023-04-02   False  \n",
       "14               None 2023-04-17   False  \n",
       "15    auto.XBB.1.5.40 2023-04-22    True  \n",
       "16    auto.XBB.1.5.40 2023-04-06    True  \n",
       "17    auto.XBB.1.5.40 2023-04-06    True  \n",
       "18               None 2023-04-20   False  \n",
       "19    auto.XBB.1.5.40 2023-04-22    True  \n",
       "20    auto.XBB.1.5.40 2023-04-19    True  \n",
       "21               None 2023-04-02   False  \n",
       "22               None 2023-04-02   False  \n",
       "23               None 2023-04-02   False  \n",
       "24    auto.XBB.1.5.40 2023-04-02    True  \n",
       "25               None 2023-04-06   False  \n",
       "26    auto.XBB.1.5.40 2023-04-22    True  \n",
       "27  auto.XBB.1.16.1.1 2023-04-08    True  "
      ]
     },
     "execution_count": 228,
     "metadata": {},
     "output_type": "execute_result"
    }
   ],
   "source": [
    "statedf['gained'] = (statedf.moved_to.apply(lambda x:x != 'None'))\n",
    "statedf"
   ]
  },
  {
   "cell_type": "code",
   "execution_count": 229,
   "id": "9f0f53b9",
   "metadata": {},
   "outputs": [
    {
     "data": {
      "text/plain": [
       "True     20\n",
       "False     8\n",
       "Name: gained, dtype: int64"
      ]
     },
     "execution_count": 229,
     "metadata": {},
     "output_type": "execute_result"
    }
   ],
   "source": [
    "statedf.gained.value_counts()"
   ]
  },
  {
   "cell_type": "code",
   "execution_count": 230,
   "id": "ab32b43b",
   "metadata": {},
   "outputs": [
    {
     "data": {
      "text/plain": [
       "auto.XBB.1.5.40      9\n",
       "auto.XBB.1.5.8.1     8\n",
       "auto.XBB.1.16.1.1    2\n",
       "auto.B.1.1.529.6     1\n",
       "Name: moved_to, dtype: int64"
      ]
     },
     "execution_count": 230,
     "metadata": {},
     "output_type": "execute_result"
    }
   ],
   "source": [
    "statedf[statedf.gained].moved_to.value_counts()"
   ]
  },
  {
   "cell_type": "code",
   "execution_count": 231,
   "id": "ffd47b75",
   "metadata": {},
   "outputs": [
    {
     "data": {
      "text/plain": [
       "auto.XBB.1.5.40     7\n",
       "auto.B.1.1.529.6    1\n",
       "Name: moved_from, dtype: int64"
      ]
     },
     "execution_count": 231,
     "metadata": {},
     "output_type": "execute_result"
    }
   ],
   "source": [
    "statedf[~statedf.gained].moved_from.value_counts()"
   ]
  },
  {
   "cell_type": "markdown",
   "id": "f90dafab",
   "metadata": {},
   "source": [
    "Only 0.75% of samples in auto.XBB.1.5.40 are unstable in this way."
   ]
  },
  {
   "cell_type": "code",
   "execution_count": 232,
   "id": "38a64fc0",
   "metadata": {},
   "outputs": [
    {
     "data": {
      "text/plain": [
       "(0.0075507314771118455, 2119)"
      ]
     },
     "execution_count": 232,
     "metadata": {},
     "output_type": "execute_result"
    }
   ],
   "source": [
    "total = tdf[tdf.lineage == \"auto.XBB.1.5.40\"].strain.nunique()\n",
    "16 / total, total"
   ]
  },
  {
   "cell_type": "markdown",
   "id": "59cc373c",
   "metadata": {},
   "source": [
    "Let's create another, simpler table for inclusion in the supplementary data."
   ]
  },
  {
   "cell_type": "code",
   "execution_count": 233,
   "id": "35eb9b2e",
   "metadata": {},
   "outputs": [
    {
     "data": {
      "text/html": [
       "<div>\n",
       "<style scoped>\n",
       "    .dataframe tbody tr th:only-of-type {\n",
       "        vertical-align: middle;\n",
       "    }\n",
       "\n",
       "    .dataframe tbody tr th {\n",
       "        vertical-align: top;\n",
       "    }\n",
       "\n",
       "    .dataframe thead th {\n",
       "        text-align: right;\n",
       "    }\n",
       "</style>\n",
       "<table border=\"1\" class=\"dataframe\">\n",
       "  <thead>\n",
       "    <tr style=\"text-align: right;\">\n",
       "      <th></th>\n",
       "      <th>Strain</th>\n",
       "      <th>Moved</th>\n",
       "      <th>Lineage</th>\n",
       "      <th>On Date</th>\n",
       "    </tr>\n",
       "  </thead>\n",
       "  <tbody>\n",
       "    <tr>\n",
       "      <th>0</th>\n",
       "      <td>IND/2947/2023|OQ701301.1|2023-03-10</td>\n",
       "      <td>To</td>\n",
       "      <td>auto.XBB.1.16.1.1</td>\n",
       "      <td>2023-04-02</td>\n",
       "    </tr>\n",
       "    <tr>\n",
       "      <th>1</th>\n",
       "      <td>Scotland/SCOT-24049/2022|OX435521.1|2022-12-31</td>\n",
       "      <td>From</td>\n",
       "      <td>auto.B.1.1.529.6</td>\n",
       "      <td>2023-04-02</td>\n",
       "    </tr>\n",
       "    <tr>\n",
       "      <th>2</th>\n",
       "      <td>Scotland/SCOT-26462/2023|2023-02-21</td>\n",
       "      <td>To</td>\n",
       "      <td>auto.XBB.1.5.8.1</td>\n",
       "      <td>2023-04-02</td>\n",
       "    </tr>\n",
       "    <tr>\n",
       "      <th>3</th>\n",
       "      <td>Scotland/SCOT-26462/2023|OX451476.1|2023-02-21</td>\n",
       "      <td>To</td>\n",
       "      <td>auto.XBB.1.5.8.1</td>\n",
       "      <td>2023-04-15</td>\n",
       "    </tr>\n",
       "    <tr>\n",
       "      <th>4</th>\n",
       "      <td>Scotland/SCOT-26819/2023|2023-02-21</td>\n",
       "      <td>To</td>\n",
       "      <td>auto.XBB.1.5.8.1</td>\n",
       "      <td>2023-04-02</td>\n",
       "    </tr>\n",
       "    <tr>\n",
       "      <th>5</th>\n",
       "      <td>Scotland/SCOT-26819/2023|OX453590.1|2023-02-21</td>\n",
       "      <td>To</td>\n",
       "      <td>auto.XBB.1.5.8.1</td>\n",
       "      <td>2023-04-15</td>\n",
       "    </tr>\n",
       "    <tr>\n",
       "      <th>6</th>\n",
       "      <td>Scotland/SCOT-26821/2023|2023-02-21</td>\n",
       "      <td>To</td>\n",
       "      <td>auto.XBB.1.5.8.1</td>\n",
       "      <td>2023-04-02</td>\n",
       "    </tr>\n",
       "    <tr>\n",
       "      <th>7</th>\n",
       "      <td>Scotland/SCOT-26821/2023|OX453648.1|2023-02-21</td>\n",
       "      <td>To</td>\n",
       "      <td>auto.XBB.1.5.8.1</td>\n",
       "      <td>2023-04-15</td>\n",
       "    </tr>\n",
       "    <tr>\n",
       "      <th>8</th>\n",
       "      <td>Scotland/SCOT-27434/2023|OX457315.1|2023-03-02</td>\n",
       "      <td>To</td>\n",
       "      <td>auto.B.1.1.529.6</td>\n",
       "      <td>2023-04-02</td>\n",
       "    </tr>\n",
       "    <tr>\n",
       "      <th>9</th>\n",
       "      <td>Scotland/SCOT-28483/2023|2023-03-12</td>\n",
       "      <td>To</td>\n",
       "      <td>auto.XBB.1.5.8.1</td>\n",
       "      <td>2023-04-06</td>\n",
       "    </tr>\n",
       "    <tr>\n",
       "      <th>10</th>\n",
       "      <td>Scotland/SCOT-28483/2023|OX462874.1|2023-03-12</td>\n",
       "      <td>To</td>\n",
       "      <td>auto.XBB.1.5.8.1</td>\n",
       "      <td>2023-04-21</td>\n",
       "    </tr>\n",
       "    <tr>\n",
       "      <th>11</th>\n",
       "      <td>USA/CA-CDC-QDX48192978/2023|OQ728437.1|2023-03-20</td>\n",
       "      <td>To</td>\n",
       "      <td>auto.XBB.1.5.40</td>\n",
       "      <td>2023-04-05</td>\n",
       "    </tr>\n",
       "    <tr>\n",
       "      <th>12</th>\n",
       "      <td>USA/CA-CDC-QDX48192979/2023|OQ728624.1|2023-03-20</td>\n",
       "      <td>To</td>\n",
       "      <td>auto.XBB.1.5.40</td>\n",
       "      <td>2023-04-05</td>\n",
       "    </tr>\n",
       "    <tr>\n",
       "      <th>13</th>\n",
       "      <td>USA/FL-CDC-QDX47418754/2023|OQ644056.1|2023-03-01</td>\n",
       "      <td>From</td>\n",
       "      <td>auto.XBB.1.5.40</td>\n",
       "      <td>2023-04-02</td>\n",
       "    </tr>\n",
       "    <tr>\n",
       "      <th>14</th>\n",
       "      <td>USA/FL-CDC-QDX48193288/2023|OQ782385.1|2023-03-21</td>\n",
       "      <td>From</td>\n",
       "      <td>auto.XBB.1.5.40</td>\n",
       "      <td>2023-04-17</td>\n",
       "    </tr>\n",
       "    <tr>\n",
       "      <th>15</th>\n",
       "      <td>USA/FL-CDC-QDX48587517/2023|OQ827304.1|2023-03-31</td>\n",
       "      <td>To</td>\n",
       "      <td>auto.XBB.1.5.40</td>\n",
       "      <td>2023-04-22</td>\n",
       "    </tr>\n",
       "    <tr>\n",
       "      <th>16</th>\n",
       "      <td>USA/LA-BIE-LSUH003690/2023|OQ736767.1|2023-03-20</td>\n",
       "      <td>To</td>\n",
       "      <td>auto.XBB.1.5.40</td>\n",
       "      <td>2023-04-06</td>\n",
       "    </tr>\n",
       "    <tr>\n",
       "      <th>17</th>\n",
       "      <td>USA/LA-BIE-LSUH003692/2023|OQ736769.1|2023-03-22</td>\n",
       "      <td>To</td>\n",
       "      <td>auto.XBB.1.5.40</td>\n",
       "      <td>2023-04-06</td>\n",
       "    </tr>\n",
       "    <tr>\n",
       "      <th>18</th>\n",
       "      <td>USA/M00621433-F1-1/2023|OQ820697.1|2023-03-29</td>\n",
       "      <td>From</td>\n",
       "      <td>auto.XBB.1.5.40</td>\n",
       "      <td>2023-04-20</td>\n",
       "    </tr>\n",
       "    <tr>\n",
       "      <th>19</th>\n",
       "      <td>USA/NJ-CDC-QDX48685195/2023|OQ827907.1|2023-04-03</td>\n",
       "      <td>To</td>\n",
       "      <td>auto.XBB.1.5.40</td>\n",
       "      <td>2023-04-22</td>\n",
       "    </tr>\n",
       "    <tr>\n",
       "      <th>20</th>\n",
       "      <td>USA/NV-CDC-LC1035085/2023|OQ808432.1|2023-03-30</td>\n",
       "      <td>To</td>\n",
       "      <td>auto.XBB.1.5.40</td>\n",
       "      <td>2023-04-19</td>\n",
       "    </tr>\n",
       "    <tr>\n",
       "      <th>21</th>\n",
       "      <td>USA/NY-CDC-QDX47311927/2023|OQ610887.1|2023-02-27</td>\n",
       "      <td>From</td>\n",
       "      <td>auto.XBB.1.5.40</td>\n",
       "      <td>2023-04-02</td>\n",
       "    </tr>\n",
       "    <tr>\n",
       "      <th>22</th>\n",
       "      <td>USA/PA-CDC-QDX46827201/2023|OQ577387.1|2023-02-14</td>\n",
       "      <td>From</td>\n",
       "      <td>auto.XBB.1.5.40</td>\n",
       "      <td>2023-04-02</td>\n",
       "    </tr>\n",
       "    <tr>\n",
       "      <th>23</th>\n",
       "      <td>USA/PA-CDC-QDX47973735/2023|OQ713000.1|2023-03-15</td>\n",
       "      <td>From</td>\n",
       "      <td>auto.XBB.1.5.40</td>\n",
       "      <td>2023-04-02</td>\n",
       "    </tr>\n",
       "    <tr>\n",
       "      <th>24</th>\n",
       "      <td>USA/TX-CDC-QDX47418188/2023|OQ643781.1|2023-02-28</td>\n",
       "      <td>To</td>\n",
       "      <td>auto.XBB.1.5.40</td>\n",
       "      <td>2023-04-02</td>\n",
       "    </tr>\n",
       "    <tr>\n",
       "      <th>25</th>\n",
       "      <td>USA/VA-CDC-LC1031818/2023|OQ734369.1|2023-03-25</td>\n",
       "      <td>From</td>\n",
       "      <td>auto.XBB.1.5.40</td>\n",
       "      <td>2023-04-06</td>\n",
       "    </tr>\n",
       "    <tr>\n",
       "      <th>26</th>\n",
       "      <td>USA/WA-CDC-UW23032239573/2023|OQ833295.1|2023-...</td>\n",
       "      <td>To</td>\n",
       "      <td>auto.XBB.1.5.40</td>\n",
       "      <td>2023-04-22</td>\n",
       "    </tr>\n",
       "    <tr>\n",
       "      <th>27</th>\n",
       "      <td>USA/WI-CDC-VSX-A065209/2023|OQ748644.1|2023-03-22</td>\n",
       "      <td>To</td>\n",
       "      <td>auto.XBB.1.16.1.1</td>\n",
       "      <td>2023-04-08</td>\n",
       "    </tr>\n",
       "  </tbody>\n",
       "</table>\n",
       "</div>"
      ],
      "text/plain": [
       "                                               Strain Moved  \\\n",
       "0                 IND/2947/2023|OQ701301.1|2023-03-10    To   \n",
       "1      Scotland/SCOT-24049/2022|OX435521.1|2022-12-31  From   \n",
       "2                 Scotland/SCOT-26462/2023|2023-02-21    To   \n",
       "3      Scotland/SCOT-26462/2023|OX451476.1|2023-02-21    To   \n",
       "4                 Scotland/SCOT-26819/2023|2023-02-21    To   \n",
       "5      Scotland/SCOT-26819/2023|OX453590.1|2023-02-21    To   \n",
       "6                 Scotland/SCOT-26821/2023|2023-02-21    To   \n",
       "7      Scotland/SCOT-26821/2023|OX453648.1|2023-02-21    To   \n",
       "8      Scotland/SCOT-27434/2023|OX457315.1|2023-03-02    To   \n",
       "9                 Scotland/SCOT-28483/2023|2023-03-12    To   \n",
       "10     Scotland/SCOT-28483/2023|OX462874.1|2023-03-12    To   \n",
       "11  USA/CA-CDC-QDX48192978/2023|OQ728437.1|2023-03-20    To   \n",
       "12  USA/CA-CDC-QDX48192979/2023|OQ728624.1|2023-03-20    To   \n",
       "13  USA/FL-CDC-QDX47418754/2023|OQ644056.1|2023-03-01  From   \n",
       "14  USA/FL-CDC-QDX48193288/2023|OQ782385.1|2023-03-21  From   \n",
       "15  USA/FL-CDC-QDX48587517/2023|OQ827304.1|2023-03-31    To   \n",
       "16   USA/LA-BIE-LSUH003690/2023|OQ736767.1|2023-03-20    To   \n",
       "17   USA/LA-BIE-LSUH003692/2023|OQ736769.1|2023-03-22    To   \n",
       "18      USA/M00621433-F1-1/2023|OQ820697.1|2023-03-29  From   \n",
       "19  USA/NJ-CDC-QDX48685195/2023|OQ827907.1|2023-04-03    To   \n",
       "20    USA/NV-CDC-LC1035085/2023|OQ808432.1|2023-03-30    To   \n",
       "21  USA/NY-CDC-QDX47311927/2023|OQ610887.1|2023-02-27  From   \n",
       "22  USA/PA-CDC-QDX46827201/2023|OQ577387.1|2023-02-14  From   \n",
       "23  USA/PA-CDC-QDX47973735/2023|OQ713000.1|2023-03-15  From   \n",
       "24  USA/TX-CDC-QDX47418188/2023|OQ643781.1|2023-02-28    To   \n",
       "25    USA/VA-CDC-LC1031818/2023|OQ734369.1|2023-03-25  From   \n",
       "26  USA/WA-CDC-UW23032239573/2023|OQ833295.1|2023-...    To   \n",
       "27  USA/WI-CDC-VSX-A065209/2023|OQ748644.1|2023-03-22    To   \n",
       "\n",
       "              Lineage    On Date  \n",
       "0   auto.XBB.1.16.1.1 2023-04-02  \n",
       "1    auto.B.1.1.529.6 2023-04-02  \n",
       "2    auto.XBB.1.5.8.1 2023-04-02  \n",
       "3    auto.XBB.1.5.8.1 2023-04-15  \n",
       "4    auto.XBB.1.5.8.1 2023-04-02  \n",
       "5    auto.XBB.1.5.8.1 2023-04-15  \n",
       "6    auto.XBB.1.5.8.1 2023-04-02  \n",
       "7    auto.XBB.1.5.8.1 2023-04-15  \n",
       "8    auto.B.1.1.529.6 2023-04-02  \n",
       "9    auto.XBB.1.5.8.1 2023-04-06  \n",
       "10   auto.XBB.1.5.8.1 2023-04-21  \n",
       "11    auto.XBB.1.5.40 2023-04-05  \n",
       "12    auto.XBB.1.5.40 2023-04-05  \n",
       "13    auto.XBB.1.5.40 2023-04-02  \n",
       "14    auto.XBB.1.5.40 2023-04-17  \n",
       "15    auto.XBB.1.5.40 2023-04-22  \n",
       "16    auto.XBB.1.5.40 2023-04-06  \n",
       "17    auto.XBB.1.5.40 2023-04-06  \n",
       "18    auto.XBB.1.5.40 2023-04-20  \n",
       "19    auto.XBB.1.5.40 2023-04-22  \n",
       "20    auto.XBB.1.5.40 2023-04-19  \n",
       "21    auto.XBB.1.5.40 2023-04-02  \n",
       "22    auto.XBB.1.5.40 2023-04-02  \n",
       "23    auto.XBB.1.5.40 2023-04-02  \n",
       "24    auto.XBB.1.5.40 2023-04-02  \n",
       "25    auto.XBB.1.5.40 2023-04-06  \n",
       "26    auto.XBB.1.5.40 2023-04-22  \n",
       "27  auto.XBB.1.16.1.1 2023-04-08  "
      ]
     },
     "execution_count": 233,
     "metadata": {},
     "output_type": "execute_result"
    }
   ],
   "source": [
    "simplestate = {k:[] for k in ['Strain','Moved','Lineage','On Date']}\n",
    "for i,row in statedf.iterrows():\n",
    "    if row.moved_from == \"None\":\n",
    "        simplestate['Strain'].append(row.strain)\n",
    "        simplestate['Moved'].append(\"To\")\n",
    "        simplestate['Lineage'].append(row.moved_to)\n",
    "        simplestate['On Date'].append(row.on)\n",
    "    else:\n",
    "        simplestate['Strain'].append(row.strain)\n",
    "        simplestate['Moved'].append(\"From\")\n",
    "        simplestate['Lineage'].append(row.moved_from)\n",
    "        simplestate['On Date'].append(row.on)        \n",
    "simplestate = pd.DataFrame(simplestate)\n",
    "simplestate"
   ]
  },
  {
   "cell_type": "code",
   "execution_count": 234,
   "id": "c91fe660",
   "metadata": {},
   "outputs": [],
   "source": [
    "simplestate.to_csv(\"unstable_samples.csv\",index=False)"
   ]
  },
  {
   "cell_type": "markdown",
   "id": "329b3148",
   "metadata": {},
   "source": [
    "Next, we turn our attention to samples that are present in earlier trees, but do not appear in the final 2023-04-30 tree. About 7% of samples included in auto lineage designations appear to be dropped at some point over the month."
   ]
  },
  {
   "cell_type": "code",
   "execution_count": 242,
   "id": "1637e8d5",
   "metadata": {},
   "outputs": [
    {
     "data": {
      "text/plain": [
       "2023-04-30    0.929275\n",
       "2023-04-12    0.038478\n",
       "2023-04-13    0.024249\n",
       "2023-04-05    0.002694\n",
       "2023-04-17    0.001431\n",
       "2023-04-01    0.000842\n",
       "2023-04-03    0.000842\n",
       "2023-04-18    0.000589\n",
       "2023-04-06    0.000505\n",
       "2023-04-04    0.000421\n",
       "2023-04-15    0.000421\n",
       "2023-04-07    0.000253\n",
       "Name: date, dtype: float64"
      ]
     },
     "execution_count": 242,
     "metadata": {},
     "output_type": "execute_result"
    }
   ],
   "source": [
    "dmvc = tdf.groupby('strain').date.max().value_counts(normalize=True)\n",
    "dmvc"
   ]
  },
  {
   "cell_type": "code",
   "execution_count": 243,
   "id": "06b28316",
   "metadata": {},
   "outputs": [
    {
     "data": {
      "text/plain": [
       "False    11037\n",
       "True       840\n",
       "Name: date, dtype: int64"
      ]
     },
     "execution_count": 243,
     "metadata": {},
     "output_type": "execute_result"
    }
   ],
   "source": [
    "dropped = tdf.groupby('strain').date.max().apply(lambda x:x != dt.datetime(year=2023,month=4,day=30))\n",
    "dropped.value_counts() #840 samples were dropped or renamed."
   ]
  },
  {
   "cell_type": "code",
   "execution_count": 244,
   "id": "0eb0e9e0",
   "metadata": {},
   "outputs": [
    {
     "data": {
      "text/plain": [
       "['COG-UK/BRBR-32702657|OX458054.1|2023-03-11',\n",
       " 'COG-UK/BRBR-327031FB|OX457206.1|2023-03-13',\n",
       " 'COG-UK/BRBR-32703586|OX458170.1|2023-03-12',\n",
       " 'COG-UK/BRBR-32704F0F|OX457348.1|2023-03-12',\n",
       " 'COG-UK/BRBR-327079B3|OX457868.1|2023-03-14',\n",
       " 'COG-UK/BRBR-32707ADE|OX458005.1|2023-03-15',\n",
       " 'COG-UK/PLYM-32704AA4|OX457543.1|2023-03-13',\n",
       " 'COG-UK/QEUH-32700B87|OX456182.1|2023-03-06',\n",
       " 'COG-UK/SCOT-27352|OX458253.1|2023-03-03',\n",
       " 'COG-UK/SCOT-27361|OX458298.1|2023-03-01',\n",
       " 'COG-UK/SCOT-27480|OX459173.1|2023-03-10',\n",
       " 'COG-UK/SCOT-27493|OX459182.1|2023-03-10',\n",
       " 'COG-UK/SCOT-27626|OX460743.1|2023-03-08',\n",
       " 'COG-UK/SCOT-27666|OX460643.1|2023-03-08',\n",
       " 'COG-UK/SCOT-27744|OX460710.1|2023-03-07',\n",
       " 'COG-UK/SCOT-27761|OX460721.1|2023-03-07',\n",
       " 'COG-UK/SCOT-27762|OX460625.1|2023-03-08',\n",
       " 'COG-UK/SCOT-27784|OX460509.1|2023-03-10',\n",
       " 'England/BRBR-327092F2/2023|2023-03-16',\n",
       " 'England/BRBR-32709A18/2023|2023-03-16',\n",
       " 'England/BRBR-3270AD2D/2023|2023-03-17',\n",
       " 'England/BRBR-3270C0B9/2023|2023-03-20',\n",
       " 'England/BRBR-3270CB03/2023|2023-03-21',\n",
       " 'England/PHEC-YYET8E6/2023|2023-03-31',\n",
       " 'England/PHEC-YYETE34/2023|2023-03-25',\n",
       " 'England/PHEC-YYETEYP/2023|2023-03-31',\n",
       " 'England/PHEC-YYETJFN/2023|2023-03-28',\n",
       " 'England/PHEC-YYETJGY/2023|2023-03-29',\n",
       " 'England/PHEP-YYGK9DB/2023|2023-02-17',\n",
       " 'England/QEUH-326DE60A/2023|2023-02-19',\n",
       " 'NorthernIreland/BRBR-326FA592/2023|Northern_Ireland/BRBR-326FA592/2023|2023-02-27',\n",
       " 'NorthernIreland/QEUH-3268219B/2022|Northern_Ireland/QEUH-3268219B/2022|2022-12-29',\n",
       " 'NorthernIreland/QEUH-326A1BD4/2023|Northern_Ireland/QEUH-326A1BD4/2023|2023-01-08',\n",
       " 'NorthernIreland/QEUH-326EEB35/2023|Northern_Ireland/QEUH-326EEB35/2023|2023-02-27',\n",
       " 'NorthernIreland/QEUH-326F76FC/2023|Northern_Ireland/QEUH-326F76FC/2023|2023-01-12',\n",
       " 'OX394983.1|2022-12-08',\n",
       " 'OX395852.1|2022-12-12',\n",
       " 'OX401891.1|2022-12-27',\n",
       " 'OX402428.1|2022-12-22',\n",
       " 'OX402518.1|2022-12-19',\n",
       " 'OX404134.1|2022-12-16',\n",
       " 'OX420137.1|2023-01-14',\n",
       " 'OX420392.1|2023-01-18',\n",
       " 'OX420406.1|2023-01-17',\n",
       " 'OX422456.1|2023-01-24',\n",
       " 'OX422725.1|2023-01-23',\n",
       " 'OX422898.1|2023-01-28',\n",
       " 'OX423144.1|2023-01-24',\n",
       " 'OX423579.1|2023-01-24',\n",
       " 'OX423580.1|2023-01-24',\n",
       " 'OX423643.1|2023-01-23',\n",
       " 'OX424258.1|2023-01-25',\n",
       " 'OX424337.1|2023-01-30',\n",
       " 'OX426010.1|2023-01-23',\n",
       " 'OX426296.1|2023-02-06',\n",
       " 'OX426639.1|2023-02-02',\n",
       " 'OX426736.1|2023-02-06',\n",
       " 'OX426738.1|2023-02-06',\n",
       " 'OX426762.1|2023-02-05',\n",
       " 'OX426791.1|2023-02-06',\n",
       " 'OX426862.1|2023-02-02',\n",
       " 'OX427068.1|2023-02-01',\n",
       " 'OX427073.1|2023-02-01',\n",
       " 'OX427101.1|2023-01-31',\n",
       " 'OX427463.1|2023-02-06',\n",
       " 'OX427472.1|2023-02-06',\n",
       " 'OX427479.1|2023-02-06',\n",
       " 'OX427997.1|2023-02-02',\n",
       " 'OX428109.1|2023-02-01',\n",
       " 'OX428133.1|2023-02-06',\n",
       " 'OX428274.1|2023-02-07',\n",
       " 'OX428292.1|2023-02-07',\n",
       " 'OX428309.1|2023-02-06',\n",
       " 'OX428314.1|2023-02-03',\n",
       " 'OX428320.1|2023-02-02',\n",
       " 'OX428344.1|2023-02-04',\n",
       " 'OX428365.1|2023-02-06',\n",
       " 'OX428375.1|2023-02-03',\n",
       " 'OX428393.1|2023-02-05',\n",
       " 'OX428396.1|2023-02-08',\n",
       " 'OX428400.1|2023-02-08',\n",
       " 'OX428401.1|2023-02-06',\n",
       " 'OX428419.1|2023-02-08',\n",
       " 'OX428420.1|2023-02-07',\n",
       " 'OX428426.1|2023-02-03',\n",
       " 'OX428453.1|2023-02-07',\n",
       " 'OX428460.1|2023-02-06',\n",
       " 'OX428461.1|2023-02-07',\n",
       " 'OX428468.1|2023-02-06',\n",
       " 'OX428484.1|2023-02-03',\n",
       " 'OX428503.1|2023-02-07',\n",
       " 'OX428517.1|2023-02-08',\n",
       " 'OX428525.1|2023-02-07',\n",
       " 'OX428550.1|2023-02-07',\n",
       " 'OX428567.1|2023-02-06',\n",
       " 'OX428570.1|2023-02-06',\n",
       " 'OX428573.1|2023-02-07',\n",
       " 'OX428583.1|2023-02-06',\n",
       " 'OX428587.1|2023-02-05',\n",
       " 'OX428602.1|2023-02-07',\n",
       " 'OX428603.1|2023-02-08',\n",
       " 'OX428604.1|2023-02-08',\n",
       " 'OX430611.1|2023-02-07',\n",
       " 'OX430614.1|2023-02-06',\n",
       " 'OX430623.1|2023-02-08',\n",
       " 'OX430662.1|2023-02-06',\n",
       " 'OX430688.1|2023-02-03',\n",
       " 'OX430690.1|2023-02-06',\n",
       " 'OX430701.1|2023-02-06',\n",
       " 'OX430710.1|2023-02-06',\n",
       " 'OX430717.1|2023-02-06',\n",
       " 'OX430725.1|2023-02-03',\n",
       " 'OX430728.1|2023-02-08',\n",
       " 'OX430731.1|2023-02-08',\n",
       " 'OX430735.1|2023-02-07',\n",
       " 'OX430739.1|2023-02-08',\n",
       " 'OX430751.1|2023-02-06',\n",
       " 'OX430766.1|2023-02-07',\n",
       " 'OX431455.1|2023-01-06',\n",
       " 'OX431830.1|2023-02-06',\n",
       " 'OX432176.1|2023-01-30',\n",
       " 'OX432696.1|2023-01-16',\n",
       " 'OX432955.1|2023-01-05',\n",
       " 'OX433429.1|2023-01-30',\n",
       " 'OX434284.1|2023-02-06',\n",
       " 'OX434494.1|2023-01-07',\n",
       " 'OX434888.1|2023-01-23',\n",
       " 'OX434909.1|2023-02-01',\n",
       " 'OX434984.1|2023-01-26',\n",
       " 'OX435052.1|2023-01-31',\n",
       " 'OX435063.1|2023-01-26',\n",
       " 'OX435074.1|2023-01-27',\n",
       " 'OX435079.1|2023-01-30',\n",
       " 'OX435093.1|2023-02-01',\n",
       " 'OX435784.1|2023-01-30',\n",
       " 'OX436302.1|2023-01-30',\n",
       " 'OX437120.1|2023-02-08',\n",
       " 'OX437132.1|2023-02-07',\n",
       " 'OX437165.1|2023-02-10',\n",
       " 'OX437167.1|2023-02-11',\n",
       " 'OX437172.1|2023-02-09',\n",
       " 'OX437178.1|2023-02-10',\n",
       " 'OX437185.1|2023-02-11',\n",
       " 'OX437196.1|2023-02-11',\n",
       " 'OX437197.1|2023-02-06',\n",
       " 'OX437218.1|2023-02-07',\n",
       " 'OX437226.1|2023-02-03',\n",
       " 'OX437232.1|2023-02-02',\n",
       " 'OX437242.1|2023-02-03',\n",
       " 'OX437243.1|2023-02-07',\n",
       " 'OX437251.1|2023-02-02',\n",
       " 'OX437254.1|2023-02-03',\n",
       " 'OX437258.1|2023-02-03',\n",
       " 'OX437265.1|2023-02-03',\n",
       " 'OX437276.1|2023-02-01',\n",
       " 'OX437280.1|2023-02-03',\n",
       " 'OX437298.1|2023-02-04',\n",
       " 'OX437299.1|2023-02-03',\n",
       " 'OX437304.1|2023-02-01',\n",
       " 'OX437317.1|2023-02-03',\n",
       " 'OX437325.1|2023-02-06',\n",
       " 'OX437327.1|2023-02-03',\n",
       " 'OX437339.1|2023-02-07',\n",
       " 'OX437364.1|2023-02-09',\n",
       " 'OX437401.1|2023-02-10',\n",
       " 'OX437408.1|2023-02-10',\n",
       " 'OX437409.1|2023-02-10',\n",
       " 'OX437423.1|2023-02-10',\n",
       " 'OX437425.1|2023-02-08',\n",
       " 'OX437438.1|2023-02-05',\n",
       " 'OX437453.1|2023-02-07',\n",
       " 'OX437493.1|2023-02-09',\n",
       " 'OX437500.1|2023-02-11',\n",
       " 'OX437506.1|2023-02-08',\n",
       " 'OX437525.1|2023-02-10',\n",
       " 'OX437557.1|2023-02-07',\n",
       " 'OX437577.1|2023-02-06',\n",
       " 'OX437594.1|2023-02-04',\n",
       " 'OX437607.1|2023-02-10',\n",
       " 'OX437621.1|2023-02-07',\n",
       " 'OX437623.1|2023-02-06',\n",
       " 'OX437627.1|2023-02-07',\n",
       " 'OX437636.1|2023-02-07',\n",
       " 'OX437657.1|2023-02-10',\n",
       " 'OX437680.1|2023-02-07',\n",
       " 'OX437681.1|2023-02-08',\n",
       " 'OX437702.1|2023-02-08',\n",
       " 'OX437729.1|2023-02-11',\n",
       " 'OX437734.1|2023-02-11',\n",
       " 'OX437744.1|2023-02-07',\n",
       " 'OX437776.1|2023-02-08',\n",
       " 'OX437777.1|2023-02-09',\n",
       " 'OX437782.1|2023-02-08',\n",
       " 'OX437784.1|2023-02-09',\n",
       " 'OX437805.1|2023-02-10',\n",
       " 'OX437811.1|2023-02-09',\n",
       " 'OX437818.1|2023-02-07',\n",
       " 'OX437824.1|2023-02-08',\n",
       " 'OX437846.1|2023-02-07',\n",
       " 'OX437853.1|2023-02-09',\n",
       " 'OX437855.1|2023-02-08',\n",
       " 'OX437870.1|2023-02-10',\n",
       " 'OX437874.1|2023-02-09',\n",
       " 'OX437888.1|2023-02-08',\n",
       " 'OX437936.1|2023-02-09',\n",
       " 'OX437937.1|2023-02-08',\n",
       " 'OX441747.1|2023-02-20',\n",
       " 'OX441910.1|2023-02-18',\n",
       " 'OX442056.1|2023-02-16',\n",
       " 'OX442178.1|2023-02-17',\n",
       " 'OX442190.1|2023-02-17',\n",
       " 'OX442220.1|2023-02-15',\n",
       " 'OX443042.1|2023-02-15',\n",
       " 'OX443043.1|2023-02-17',\n",
       " 'OX443234.1|2023-02-22',\n",
       " 'OX443250.1|2023-02-22',\n",
       " 'OX443379.1|2023-02-18',\n",
       " 'OX443405.1|2023-02-21',\n",
       " 'OX443443.1|2023-02-21',\n",
       " 'OX443469.1|2023-02-21',\n",
       " 'OX443518.1|2023-02-21',\n",
       " 'OX443528.1|2023-02-21',\n",
       " 'OX445031.1|2023-02-21',\n",
       " 'OX445145.1|2023-02-25',\n",
       " 'OX445147.1|2023-02-24',\n",
       " 'OX445158.1|2023-02-25',\n",
       " 'OX445159.1|2023-02-24',\n",
       " 'OX445175.1|2023-02-24',\n",
       " 'OX445184.1|2023-02-25',\n",
       " 'OX445259.1|2023-02-25',\n",
       " 'OX445272.1|2023-02-24',\n",
       " 'OX445289.1|2023-02-25',\n",
       " 'OX445298.1|2023-02-24',\n",
       " 'OX445315.1|2023-02-20',\n",
       " 'OX445338.1|2023-02-23',\n",
       " 'OX445555.1|2023-02-20',\n",
       " 'OX445606.1|2023-02-24',\n",
       " 'OX445614.1|2023-02-24',\n",
       " 'OX445631.1|2023-02-23',\n",
       " 'OX445636.1|2023-02-23',\n",
       " 'OX445674.1|2023-02-25',\n",
       " 'OX445682.1|2023-02-23',\n",
       " 'OX445765.1|2023-02-24',\n",
       " 'OX445829.1|2023-02-24',\n",
       " 'OX445836.1|2023-02-24',\n",
       " 'OX445840.1|2023-02-22',\n",
       " 'OX445841.1|2023-02-23',\n",
       " 'OX445857.1|2023-02-22',\n",
       " 'OX445865.1|2023-02-20',\n",
       " 'OX445868.1|2023-02-20',\n",
       " 'OX445870.1|2023-02-24',\n",
       " 'OX445899.1|2023-02-23',\n",
       " 'OX445902.1|2023-02-24',\n",
       " 'OX445940.1|2023-02-23',\n",
       " 'OX445944.1|2023-02-24',\n",
       " 'OX445947.1|2023-02-23',\n",
       " 'OX445989.1|2023-02-22',\n",
       " 'OX446004.1|2023-02-24',\n",
       " 'OX446009.1|2023-02-25',\n",
       " 'OX446010.1|2023-02-13',\n",
       " 'OX446036.1|2023-02-20',\n",
       " 'OX446045.1|2023-02-19',\n",
       " 'OX446106.1|2023-02-24',\n",
       " 'OX446108.1|2023-02-20',\n",
       " 'OX446207.1|2023-02-24',\n",
       " 'OX446241.1|2023-02-21',\n",
       " 'OX446257.1|2023-02-22',\n",
       " 'OX446261.1|2023-02-24',\n",
       " 'OX446263.1|2023-02-20',\n",
       " 'OX446323.1|2023-02-26',\n",
       " 'OX446327.1|2023-02-24',\n",
       " 'OX446330.1|2023-02-24',\n",
       " 'OX446344.1|2023-02-17',\n",
       " 'OX446352.1|2023-02-22',\n",
       " 'OX446359.1|2023-02-23',\n",
       " 'OX446372.1|2023-02-25',\n",
       " 'OX446376.1|2023-02-20',\n",
       " 'OX446392.1|2023-02-21',\n",
       " 'OX446398.1|2023-02-24',\n",
       " 'OX446438.1|2023-02-19',\n",
       " 'OX447062.1|2023-02-10',\n",
       " 'OX447144.1|2023-02-15',\n",
       " 'OX447149.1|2023-02-08',\n",
       " 'OX447176.1|2023-02-13',\n",
       " 'OX447200.1|2023-01-30',\n",
       " 'OX447202.1|2023-02-11',\n",
       " 'OX447261.1|2023-01-30',\n",
       " 'OX447285.1|2023-02-14',\n",
       " 'OX447302.1|2023-02-06',\n",
       " 'OX447306.1|2023-02-08',\n",
       " 'OX447309.1|2023-01-29',\n",
       " 'OX447315.1|2023-01-31',\n",
       " 'OX447341.1|2023-02-06',\n",
       " 'OX447378.1|2023-02-14',\n",
       " 'OX447398.1|2023-01-29',\n",
       " 'OX447403.1|2023-02-01',\n",
       " 'OX447487.1|2023-01-30',\n",
       " 'OX447492.1|2023-02-08',\n",
       " 'OX447521.1|2023-01-26',\n",
       " 'OX447530.1|2023-02-06',\n",
       " 'OX447532.1|2023-01-30',\n",
       " 'OX447536.1|2023-02-08',\n",
       " 'OX447570.1|2023-02-01',\n",
       " 'OX447618.1|2023-01-25',\n",
       " 'OX449104.1|2023-01-30',\n",
       " 'OX449174.1|2023-02-12',\n",
       " 'OX449191.1|2023-02-11',\n",
       " 'OX449195.1|2023-02-14',\n",
       " 'OX449210.1|2023-02-15',\n",
       " 'OX449214.1|2023-02-18',\n",
       " 'OX449219.1|2023-02-19',\n",
       " 'OX449241.1|2023-02-13',\n",
       " 'OX449252.1|2023-02-18',\n",
       " 'OX449296.1|2023-02-15',\n",
       " 'OX449302.1|2023-02-14',\n",
       " 'OX449306.1|2023-02-14',\n",
       " 'OX449312.1|2023-02-14',\n",
       " 'OX449354.1|2023-02-17',\n",
       " 'OX449361.1|2023-02-16',\n",
       " 'OX449370.1|2022-11-24',\n",
       " 'OX449372.1|2023-02-17',\n",
       " 'OX449375.1|2023-02-10',\n",
       " 'OX449376.1|2023-02-18',\n",
       " 'OX449378.1|2023-02-15',\n",
       " 'OX449379.1|2023-02-13',\n",
       " 'OX449387.1|2023-02-12',\n",
       " 'OX449389.1|2023-02-13',\n",
       " 'OX449409.1|2023-02-16',\n",
       " 'OX449411.1|2023-02-13',\n",
       " 'OX449424.1|2023-02-23',\n",
       " 'OX449439.1|2023-02-28',\n",
       " 'OX449459.1|2023-02-24',\n",
       " 'OX449460.1|2023-02-24',\n",
       " 'OX449465.1|2023-02-23',\n",
       " 'OX449467.1|2023-03-01',\n",
       " 'OX449469.1|2023-02-28',\n",
       " 'OX449476.1|2023-02-24',\n",
       " 'OX449479.1|2023-02-24',\n",
       " 'OX449484.1|2023-02-23',\n",
       " 'OX449493.1|2023-02-23',\n",
       " 'OX449502.1|2023-02-24',\n",
       " 'OX449517.1|2023-02-24',\n",
       " 'OX449520.1|2023-02-24',\n",
       " 'OX449522.1|2023-02-28',\n",
       " 'OX449526.1|2023-02-27',\n",
       " 'OX449551.1|2023-02-24',\n",
       " 'OX449555.1|2023-02-28',\n",
       " 'OX449566.1|2023-02-26',\n",
       " 'OX449574.1|2023-02-21',\n",
       " 'OX449578.1|2023-02-23',\n",
       " 'OX449579.1|2023-03-01',\n",
       " 'OX449583.1|2023-03-01',\n",
       " 'OX449603.1|2023-02-24',\n",
       " 'OX449620.1|2023-02-22',\n",
       " 'OX449622.1|2023-02-21',\n",
       " 'OX449627.1|2023-02-24',\n",
       " 'OX449637.1|2023-03-02',\n",
       " 'OX449639.1|2023-02-23',\n",
       " 'OX449643.1|2023-02-24',\n",
       " 'OX449647.1|2023-02-24',\n",
       " 'OX449650.1|2023-02-24',\n",
       " 'OX449656.1|2023-02-24',\n",
       " 'OX449659.1|2023-02-24',\n",
       " 'OX449665.1|2023-02-24',\n",
       " 'OX449673.1|2023-02-24',\n",
       " 'OX449678.1|2023-02-24',\n",
       " 'OX449679.1|2023-02-22',\n",
       " 'OX449688.1|2023-02-24',\n",
       " 'OX449691.1|2023-02-24',\n",
       " 'OX449704.1|2023-02-23',\n",
       " 'OX449710.1|2023-02-23',\n",
       " 'OX449747.1|2023-02-23',\n",
       " 'OX449750.1|2023-02-24',\n",
       " 'OX449759.1|2023-03-02',\n",
       " 'OX449774.1|2023-02-23',\n",
       " 'OX449779.1|2023-03-01',\n",
       " 'OX449781.1|2023-02-28',\n",
       " 'OX449790.1|2023-02-28',\n",
       " 'OX449793.1|2023-03-02',\n",
       " 'OX449794.1|2023-02-28',\n",
       " 'OX449806.1|2023-02-28',\n",
       " 'OX449814.1|2023-02-24',\n",
       " 'OX449821.1|2023-02-24',\n",
       " 'OX449827.1|2023-02-24',\n",
       " 'OX449829.1|2023-02-28',\n",
       " 'OX449848.1|2023-02-21',\n",
       " 'OX449879.1|2023-02-28',\n",
       " 'OX449881.1|2023-02-28',\n",
       " 'OX449884.1|2023-03-01',\n",
       " 'OX449886.1|2023-02-28',\n",
       " 'OX449905.1|2023-02-24',\n",
       " 'OX449925.1|2023-03-01',\n",
       " 'OX449927.1|2023-03-01',\n",
       " 'OX449935.1|2023-03-01',\n",
       " 'OX449937.1|2023-03-01',\n",
       " 'OX449957.1|2023-02-28',\n",
       " 'OX449967.1|2023-02-28',\n",
       " 'OX449988.1|2023-02-28',\n",
       " 'OX449998.1|2023-03-01',\n",
       " 'OX450003.1|2023-02-28',\n",
       " 'OX450005.1|2023-03-01',\n",
       " 'OX450025.1|2023-02-28',\n",
       " 'OX450035.1|2023-02-24',\n",
       " 'OX450039.1|2023-02-28',\n",
       " 'OX450060.1|2023-02-26',\n",
       " 'OX450068.1|2023-02-27',\n",
       " 'OX450071.1|2023-03-01',\n",
       " 'OX450089.1|2023-02-22',\n",
       " 'OX450109.1|2023-02-26',\n",
       " 'OX450113.1|2023-02-23',\n",
       " 'OX450128.1|2023-02-24',\n",
       " 'OX450132.1|2023-02-23',\n",
       " 'OX450140.1|2023-02-23',\n",
       " 'OX450152.1|2023-02-23',\n",
       " 'OX450155.1|2023-02-26',\n",
       " 'OX450162.1|2023-02-27',\n",
       " 'OX450164.1|2023-02-26',\n",
       " 'OX450180.1|2023-02-26',\n",
       " 'OX450211.1|2023-03-01',\n",
       " 'OX450226.1|2023-02-25',\n",
       " 'OX450231.1|2023-02-24',\n",
       " 'OX450245.1|2023-02-21',\n",
       " 'OX450246.1|2023-03-01',\n",
       " 'OX450262.1|2023-03-02',\n",
       " 'OX450267.1|2023-03-02',\n",
       " 'OX450269.1|2023-03-02',\n",
       " 'OX450290.1|2023-03-02',\n",
       " 'OX450298.1|2023-02-24',\n",
       " 'OX450300.1|2023-02-28',\n",
       " 'OX450303.1|2023-03-01',\n",
       " 'OX450304.1|2023-03-01',\n",
       " 'OX450306.1|2023-02-28',\n",
       " 'OX450307.1|2023-02-28',\n",
       " 'OX450322.1|2023-02-28',\n",
       " 'OX450324.1|2023-02-28',\n",
       " 'OX450326.1|2023-02-28',\n",
       " 'OX450327.1|2023-02-28',\n",
       " 'OX450330.1|2023-03-02',\n",
       " 'OX450331.1|2023-03-01',\n",
       " 'OX450360.1|2023-02-24',\n",
       " 'OX450386.1|2023-03-02',\n",
       " 'OX450397.1|2023-02-22',\n",
       " 'OX450401.1|2023-02-24',\n",
       " 'OX450402.1|2023-02-24',\n",
       " 'OX450411.1|2023-02-23',\n",
       " 'OX450435.1|2023-02-24',\n",
       " 'OX450444.1|2023-02-23',\n",
       " 'OX450445.1|2023-02-22',\n",
       " 'OX450450.1|2023-02-23',\n",
       " 'OX450461.1|2023-02-22',\n",
       " 'OX450475.1|2023-02-23',\n",
       " 'OX450487.1|2023-02-22',\n",
       " 'OX450489.1|2023-02-24',\n",
       " 'OX450490.1|2023-02-22',\n",
       " 'OX450507.1|2023-02-28',\n",
       " 'OX450524.1|2023-02-28',\n",
       " 'OX450526.1|2023-02-28',\n",
       " 'OX450537.1|2023-03-02',\n",
       " 'OX450547.1|2023-02-27',\n",
       " 'OX450549.1|2023-02-28',\n",
       " 'OX450550.1|2023-02-28',\n",
       " 'OX450570.1|2023-02-25',\n",
       " 'OX450586.1|2023-02-27',\n",
       " 'OX450598.1|2023-02-27',\n",
       " 'OX450645.1|2023-03-02',\n",
       " 'OX450657.1|2023-02-28',\n",
       " 'OX450658.1|2023-02-28',\n",
       " 'OX450666.1|2023-02-24',\n",
       " 'OX450675.1|2023-02-19',\n",
       " 'OX450676.1|2023-02-24',\n",
       " 'OX450677.1|2023-02-22',\n",
       " 'OX450678.1|2023-02-22',\n",
       " 'OX450686.1|2023-02-24',\n",
       " 'OX450692.1|2023-02-26',\n",
       " 'OX450720.1|2023-02-26',\n",
       " 'OX450724.1|2023-02-24',\n",
       " 'OX450730.1|2023-02-26',\n",
       " 'OX450736.1|2023-02-27',\n",
       " 'OX450750.1|2023-02-27',\n",
       " 'OX450758.1|2023-02-27',\n",
       " 'OX450767.1|2023-02-27',\n",
       " 'OX450769.1|2023-02-27',\n",
       " 'OX450780.1|2023-02-23',\n",
       " 'OX450781.1|2023-02-23',\n",
       " 'OX450812.1|2023-02-27',\n",
       " 'OX450822.1|2023-02-27',\n",
       " 'OX450831.1|2023-02-24',\n",
       " 'OX450836.1|2023-02-23',\n",
       " 'OX450838.1|2023-02-23',\n",
       " 'OX450845.1|2023-02-28',\n",
       " 'OX450847.1|2023-02-27',\n",
       " 'OX450848.1|2023-02-28',\n",
       " 'OX450857.1|2023-02-24',\n",
       " 'OX450858.1|2023-02-28',\n",
       " 'OX450874.1|2023-03-02',\n",
       " 'OX450878.1|2023-02-28',\n",
       " 'OX450886.1|2023-03-02',\n",
       " 'OX450896.1|2023-02-28',\n",
       " 'OX450897.1|2023-02-22',\n",
       " 'OX450902.1|2023-02-21',\n",
       " 'OX450910.1|2023-03-01',\n",
       " 'OX450912.1|2023-02-28',\n",
       " 'OX450941.1|2023-02-27',\n",
       " 'OX450943.1|2023-03-02',\n",
       " 'OX450944.1|2023-03-02',\n",
       " 'OX450946.1|2023-03-02',\n",
       " 'OX450947.1|2023-03-02',\n",
       " 'OX450952.1|2023-02-28',\n",
       " 'OX450970.1|2023-02-24',\n",
       " 'OX450976.1|2023-02-26',\n",
       " 'OX450982.1|2023-02-27',\n",
       " 'OX450991.1|2023-02-28',\n",
       " 'OX451010.1|2023-02-28',\n",
       " 'OX451022.1|2023-02-22',\n",
       " 'OX451045.1|2023-02-27',\n",
       " 'OX451050.1|2023-02-27',\n",
       " 'OX451053.1|2023-02-28',\n",
       " 'OX451059.1|2023-02-28',\n",
       " 'OX451065.1|2023-02-27',\n",
       " 'OX451067.1|2023-02-27',\n",
       " 'OX451070.1|2023-02-28',\n",
       " 'OX451076.1|2023-02-27',\n",
       " 'OX451079.1|2023-02-27',\n",
       " 'OX451080.1|2023-02-27',\n",
       " 'OX451089.1|2023-02-27',\n",
       " 'OX451095.1|2023-02-28',\n",
       " 'OX451101.1|2023-02-28',\n",
       " 'OX451106.1|2023-02-27',\n",
       " 'OX451107.1|2023-02-27',\n",
       " 'OX451108.1|2023-02-27',\n",
       " 'OX451111.1|2023-02-27',\n",
       " 'OX451113.1|2023-02-27',\n",
       " 'OX451116.1|2023-02-27',\n",
       " 'OX451119.1|2023-02-27',\n",
       " 'OX451266.1|2023-02-08',\n",
       " 'OX451268.1|2023-02-20',\n",
       " 'OX451272.1|2023-02-07',\n",
       " 'OX451274.1|2023-02-20',\n",
       " 'OX451275.1|2023-02-16',\n",
       " 'OX451276.1|2023-02-14',\n",
       " 'OX451284.1|2023-02-15',\n",
       " 'OX451296.1|2023-02-14',\n",
       " 'OX451298.1|2023-02-14',\n",
       " 'OX451307.1|2023-02-14',\n",
       " 'OX451312.1|2023-02-08',\n",
       " 'OX451313.1|2023-02-13',\n",
       " 'OX451322.1|2023-02-15',\n",
       " 'OX451324.1|2023-02-17',\n",
       " 'OX451327.1|2023-02-20',\n",
       " 'OX451329.1|2023-02-16',\n",
       " 'OX451438.1|2023-02-25',\n",
       " 'OX451440.1|2023-02-23',\n",
       " 'OX451444.1|2023-02-17',\n",
       " 'OX451445.1|2023-02-17',\n",
       " 'OX451447.1|2023-02-22',\n",
       " 'OX451449.1|2023-02-23',\n",
       " 'OX451451.1|2023-02-16',\n",
       " 'OX451453.1|2023-02-19',\n",
       " 'OX451455.1|2023-02-25',\n",
       " 'OX451462.1|2023-02-16',\n",
       " 'OX451470.1|2023-02-23',\n",
       " 'OX451487.1|2023-02-19',\n",
       " 'OX451488.1|2023-02-16',\n",
       " 'OX451492.1|2023-02-23',\n",
       " 'OX451495.1|2023-02-21',\n",
       " 'OX451496.1|2023-02-21',\n",
       " 'OX451497.1|2023-02-22',\n",
       " 'OX451498.1|2023-02-19',\n",
       " 'OX451514.1|2023-02-23',\n",
       " 'OX451742.1|2023-02-19',\n",
       " 'OX452377.1|2023-02-16',\n",
       " 'OX452398.1|2023-02-16',\n",
       " 'OX452407.1|2023-02-24',\n",
       " 'OX452417.1|2023-02-16',\n",
       " 'OX452432.1|2023-02-21',\n",
       " 'OX452573.1|2023-02-21',\n",
       " 'OX452576.1|2023-02-23',\n",
       " 'OX452582.1|2023-02-21',\n",
       " 'OX452634.1|2023-02-21',\n",
       " 'OX452682.1|2023-02-20',\n",
       " 'OX452768.1|2023-02-17',\n",
       " 'OX452780.1|2023-02-16',\n",
       " 'OX452783.1|2023-02-20',\n",
       " 'OX452822.1|2023-02-23',\n",
       " 'OX452823.1|2023-02-22',\n",
       " 'OX452849.1|2023-02-16',\n",
       " 'OX453585.1|2023-02-26',\n",
       " 'OX453595.1|2023-02-21',\n",
       " 'OX453598.1|2023-02-22',\n",
       " 'OX453615.1|2023-02-26',\n",
       " 'OX453618.1|2023-02-21',\n",
       " 'OX453620.1|2023-02-27',\n",
       " 'OX453621.1|2023-02-21',\n",
       " 'OX453626.1|2023-02-22',\n",
       " 'OX453631.1|2023-02-21',\n",
       " 'OX453632.1|2023-02-22',\n",
       " 'OX453633.1|2023-02-23',\n",
       " 'OX453640.1|2023-02-22',\n",
       " 'OX453649.1|2023-02-22',\n",
       " 'OX453652.1|2023-02-22',\n",
       " 'OX453660.1|2023-02-20',\n",
       " 'OX453668.1|2023-02-22',\n",
       " 'OX453672.1|2023-02-27',\n",
       " 'OX453674.1|2023-02-22',\n",
       " 'OX453676.1|2023-02-21',\n",
       " 'OX453686.1|2023-02-26',\n",
       " 'OX453701.1|2023-02-26',\n",
       " 'OX456579.1|2023-02-28',\n",
       " 'OX456593.1|2023-02-28',\n",
       " 'OX456595.1|2023-03-01',\n",
       " 'OX456602.1|2023-03-01',\n",
       " 'OX456666.1|2023-03-04',\n",
       " 'OX456675.1|2023-02-28',\n",
       " 'OX456679.1|2023-03-04',\n",
       " 'OX456684.1|2023-03-01',\n",
       " 'OX456686.1|2023-02-27',\n",
       " 'OX456687.1|2023-03-05',\n",
       " 'OX456689.1|2023-03-01',\n",
       " 'OX456703.1|2022-12-30',\n",
       " 'OX456710.1|2023-02-28',\n",
       " 'OX456714.1|2023-03-01',\n",
       " 'OX456715.1|2023-03-06',\n",
       " 'OX456729.1|2023-03-05',\n",
       " 'OX456735.1|2023-03-03',\n",
       " 'OX456748.1|2023-03-02',\n",
       " 'OX456749.1|2023-03-04',\n",
       " 'OX456760.1|2023-03-03',\n",
       " 'OX456768.1|2023-02-28',\n",
       " 'OX456769.1|2023-03-04',\n",
       " 'OX456778.1|2023-03-04',\n",
       " 'OX456785.1|2023-03-01',\n",
       " 'OX456793.1|2023-03-03',\n",
       " 'OX456807.1|2023-03-04',\n",
       " 'OX456812.1|2023-03-06',\n",
       " 'OX456841.1|2023-03-05',\n",
       " 'OX456842.1|2023-02-24',\n",
       " 'OX456847.1|2023-03-04',\n",
       " 'OX456851.1|2023-03-04',\n",
       " 'OX456855.1|2023-03-03',\n",
       " 'OX456871.1|2023-03-02',\n",
       " 'OX456876.1|2023-02-24',\n",
       " 'OX456880.1|2023-03-01',\n",
       " 'OX456888.1|2023-03-03',\n",
       " 'OX456906.1|2023-03-03',\n",
       " 'OX456913.1|2023-02-28',\n",
       " 'OX456915.1|2023-02-25',\n",
       " 'OX456916.1|2023-02-28',\n",
       " 'OX456930.1|2023-03-04',\n",
       " 'OX456939.1|2023-03-02',\n",
       " 'OX456942.1|2023-03-03',\n",
       " 'OX456951.1|2023-03-04',\n",
       " 'OX456962.1|2023-02-26',\n",
       " 'OX456976.1|2023-03-03',\n",
       " 'OX456977.1|2023-02-05',\n",
       " 'OX458296.1|2023-03-05',\n",
       " 'OX458339.1|2023-03-14',\n",
       " 'OX458342.1|2023-03-15',\n",
       " 'OX458345.1|2023-03-16',\n",
       " 'OX458348.1|2023-03-16',\n",
       " 'OX458351.1|2023-03-17',\n",
       " 'OX458367.1|2023-03-15',\n",
       " 'OX458372.1|2023-03-17',\n",
       " 'OX458375.1|2023-03-15',\n",
       " 'OX458378.1|2023-03-17',\n",
       " 'OX458411.1|2023-03-16',\n",
       " 'OX458415.1|2023-03-16',\n",
       " 'OX458417.1|2023-03-17',\n",
       " 'OX458428.1|2023-03-16',\n",
       " 'OX458431.1|2023-03-14',\n",
       " 'OX458436.1|2023-03-17',\n",
       " 'OX458465.1|2023-03-13',\n",
       " 'OX458478.1|2023-03-15',\n",
       " 'OX458498.1|2023-03-16',\n",
       " 'OX458518.1|2023-03-16',\n",
       " 'OX458534.1|2023-03-16',\n",
       " 'OX458558.1|2023-03-13',\n",
       " 'OX458574.1|2023-03-15',\n",
       " 'OX458575.1|2023-03-15',\n",
       " 'OX458579.1|2023-03-16',\n",
       " 'OX458590.1|2023-03-17',\n",
       " 'OX458599.1|2023-03-15',\n",
       " 'OX458640.1|2023-03-15',\n",
       " 'OX458647.1|2023-03-16',\n",
       " 'OX458653.1|2023-03-15',\n",
       " 'OX458661.1|2023-03-14',\n",
       " 'OX458688.1|2023-03-15',\n",
       " 'OX458690.1|2023-03-15',\n",
       " 'OX458700.1|2023-03-17',\n",
       " 'OX458702.1|2023-03-15',\n",
       " 'OX458703.1|2023-03-16',\n",
       " 'OX458707.1|2023-03-15',\n",
       " 'OX458712.1|2023-03-17',\n",
       " 'OX458718.1|2023-03-15',\n",
       " 'OX458724.1|2023-03-15',\n",
       " 'OX458740.1|2023-03-15',\n",
       " 'OX458754.1|2023-03-15',\n",
       " 'OX458784.1|2023-03-14',\n",
       " 'OX458789.1|2023-03-16',\n",
       " 'OX458824.1|2023-03-15',\n",
       " 'OX458838.1|2023-03-16',\n",
       " 'OX458839.1|2023-03-14',\n",
       " 'OX458851.1|2023-03-16',\n",
       " 'OX458869.1|2023-03-16',\n",
       " 'OX458888.1|2023-03-15',\n",
       " 'OX458893.1|2023-03-17',\n",
       " 'OX458917.1|2023-03-17',\n",
       " 'OX459227.1|2023-03-20',\n",
       " 'OX459228.1|2023-03-21',\n",
       " 'OX459233.1|2023-03-20',\n",
       " 'OX459236.1|2023-03-17',\n",
       " 'OX459247.1|2023-03-17',\n",
       " 'OX459251.1|2023-03-20',\n",
       " 'OX459253.1|2023-03-21',\n",
       " 'OX459258.1|2023-03-20',\n",
       " 'OX459259.1|2023-03-17',\n",
       " 'OX459260.1|2023-03-16',\n",
       " 'OX459263.1|2023-03-17',\n",
       " 'OX459273.1|2023-03-20',\n",
       " 'OX459278.1|2023-03-17',\n",
       " 'OX459301.1|2023-03-20',\n",
       " 'OX459302.1|2023-03-16',\n",
       " 'OX459305.1|2023-03-20',\n",
       " 'OX459316.1|2023-03-20',\n",
       " 'OX459322.1|2023-03-20',\n",
       " 'OX459330.1|2023-03-17',\n",
       " 'OX459332.1|2023-03-21',\n",
       " 'OX459347.1|2023-03-17',\n",
       " 'OX459352.1|2023-03-20',\n",
       " 'OX459354.1|2023-03-20',\n",
       " 'OX459355.1|2023-03-17',\n",
       " 'OX459366.1|2023-03-20',\n",
       " 'OX459371.1|2023-03-20',\n",
       " 'OX459372.1|2023-03-16',\n",
       " 'OX459382.1|2023-03-20',\n",
       " 'OX459389.1|2023-03-20',\n",
       " 'OX459394.1|2023-03-16',\n",
       " 'OX459396.1|2023-03-20',\n",
       " 'OX459402.1|2023-03-17',\n",
       " 'OX459411.1|2023-03-16',\n",
       " 'OX459418.1|2023-03-17',\n",
       " 'OX459456.1|2023-03-13',\n",
       " 'OX459474.1|2023-03-16',\n",
       " 'OX459486.1|2023-03-20',\n",
       " 'OX459491.1|2023-03-20',\n",
       " 'OX459493.1|2023-03-16',\n",
       " 'OX459507.1|2023-03-21',\n",
       " 'OX459509.1|2023-03-20',\n",
       " 'OX459519.1|2023-03-21',\n",
       " 'OX459527.1|2023-03-20',\n",
       " 'OX459546.1|2023-03-16',\n",
       " 'OX459548.1|2023-03-17',\n",
       " 'OX459550.1|2023-03-20',\n",
       " 'OX459556.1|2023-03-17',\n",
       " 'OX459569.1|2023-03-20',\n",
       " 'OX459581.1|2023-03-20',\n",
       " 'OX459594.1|2023-03-21',\n",
       " 'OX459595.1|2023-03-20',\n",
       " 'OX459608.1|2023-03-21',\n",
       " 'OX459620.1|2023-03-20',\n",
       " 'OX459627.1|2023-03-20',\n",
       " 'OX459634.1|2023-03-18',\n",
       " 'OX459653.1|2023-03-17',\n",
       " 'OX459655.1|2023-03-17',\n",
       " 'OX459661.1|2023-03-17',\n",
       " 'OX459693.1|2023-03-17',\n",
       " 'OX459700.1|2023-03-20',\n",
       " 'OX459711.1|2023-03-20',\n",
       " 'OX459713.1|2023-03-20',\n",
       " 'OX459722.1|2023-03-20',\n",
       " 'OX459727.1|2023-03-20',\n",
       " 'OX459749.1|2023-03-20',\n",
       " 'OX459754.1|2023-03-20',\n",
       " 'OX459757.1|2023-03-20',\n",
       " 'Scotland/SCOT-26833/2023|2023-02-21',\n",
       " 'Scotland/SCOT-27472/2023|2023-03-09',\n",
       " 'Scotland/SCOT-27496/2023|2023-03-11',\n",
       " 'Scotland/SCOT-27506/2023|2023-03-11',\n",
       " 'Scotland/SCOT-27507/2023|2023-03-12',\n",
       " 'Scotland/SCOT-27520/2023|2023-03-13',\n",
       " 'Scotland/SCOT-27529/2023|2023-03-13',\n",
       " 'Scotland/SCOT-27535/2023|2023-03-06',\n",
       " 'Scotland/SCOT-27537/2023|2023-03-05',\n",
       " 'Scotland/SCOT-27538/2023|2023-03-08',\n",
       " 'Scotland/SCOT-27542/2023|2023-03-08',\n",
       " 'Scotland/SCOT-27546/2023|2023-03-06',\n",
       " 'Scotland/SCOT-27547/2023|2023-03-06',\n",
       " 'Scotland/SCOT-27549/2023|2023-03-06',\n",
       " 'Scotland/SCOT-27552/2023|2023-03-06',\n",
       " 'Scotland/SCOT-27553/2023|2023-03-06',\n",
       " 'Scotland/SCOT-27554/2023|2023-03-06',\n",
       " 'Scotland/SCOT-27555/2023|2023-03-06',\n",
       " 'Scotland/SCOT-27556/2023|2023-03-06',\n",
       " 'Scotland/SCOT-27557/2023|2023-03-06',\n",
       " 'Scotland/SCOT-27558/2023|2023-03-06',\n",
       " 'Scotland/SCOT-27559/2023|2023-03-06',\n",
       " 'Scotland/SCOT-27592/2023|2023-03-07',\n",
       " 'Scotland/SCOT-27596/2023|2023-03-07',\n",
       " 'Scotland/SCOT-27624/2023|2023-03-08',\n",
       " 'Scotland/SCOT-27625/2023|2023-03-08',\n",
       " 'Scotland/SCOT-27627/2023|2023-03-06',\n",
       " 'Scotland/SCOT-27629/2023|2023-03-07',\n",
       " 'Scotland/SCOT-27630/2023|2023-03-07',\n",
       " 'Scotland/SCOT-27634/2023|2023-03-08',\n",
       " 'Scotland/SCOT-27635/2023|2023-03-09',\n",
       " 'Scotland/SCOT-27638/2023|2023-03-09',\n",
       " 'Scotland/SCOT-27640/2023|2023-03-10',\n",
       " 'Scotland/SCOT-27641/2023|2023-03-10',\n",
       " 'Scotland/SCOT-27653/2023|2023-03-09',\n",
       " 'Scotland/SCOT-27677/2023|2023-03-11',\n",
       " 'Scotland/SCOT-27694/2023|2023-03-11',\n",
       " 'Scotland/SCOT-27695/2023|2023-03-11',\n",
       " 'Scotland/SCOT-27697/2023|2023-03-10',\n",
       " 'Scotland/SCOT-27698/2023|2023-03-10',\n",
       " 'Scotland/SCOT-27775/2023|2023-03-08',\n",
       " 'Scotland/SCOT-27782/2023|2023-03-10',\n",
       " 'Scotland/SCOT-27807/2023|2023-03-10',\n",
       " 'USA/UT-UPHL--23020315636/2023|OQ407916.1|2023-01-24',\n",
       " 'USA/UT-UPHL-221230761213/2022|OQ216379.1|2022-12-18',\n",
       " 'USA/UT-UPHL-230118260839/2023|OQ336358.1|2023-01-01',\n",
       " 'USA/UT-UPHL-230118371325/2023|OQ336377.1|2023-01-04',\n",
       " 'USA/UT-UPHL-230119115646/2023|OQ336679.1|2023-01-06',\n",
       " 'USA/UT-UPHL-230119195567/2023|OQ336712.1|2023-01-09',\n",
       " 'USA/UT-UPHL-230119261516/2023|OQ336735.1|2023-01-09',\n",
       " 'USA/UT-UPHL-230127615650/2023|OQ371871.1|2023-01-11',\n",
       " 'USA/UT-UPHL-230224115724/2023|OQ566378.1|2023-02-16',\n",
       " 'USA/UT-UPHL-230224235782/2023|OQ566437.1|2023-02-09',\n",
       " 'USA/UT-UPHL-230224471708/2023|OQ566544.1|2023-02-14',\n",
       " 'USA/UT-UPHL-230224531615/2023|OQ566564.1|2023-02-16',\n",
       " 'USA/UT-UPHL-230224536566/2023|OQ566567.1|2023-02-15',\n",
       " 'USA/UT-UPHL-230224730751/2023|OQ566627.1|2023-02-19',\n",
       " 'USA/UT-UPHL-230224817166/2023|OQ566662.1|2023-02-17',\n",
       " 'USA/UT-UPHL-230224932666/2023|OQ566710.1|2023-02-14',\n",
       " 'USA/UT-UPHL-230224970422/2023|OQ566728.1|2023-02-13',\n",
       " 'USA/UT-UPHL-230224986251/2023|OQ566739.1|2023-02-09',\n",
       " 'USA/UT-UPHL-230303163263/2023|OQ593447.1|2023-01-30',\n",
       " 'USA/UT-UPHL-230303305869/2023|OQ593545.1|2023-02-22',\n",
       " 'USA/UT-UPHL-230303324595/2023|OQ593558.1|2023-02-14',\n",
       " 'USA/UT-UPHL-230303562550/2023|OQ593736.1|2023-02-24',\n",
       " 'USA/UT-UPHL-230303712821/2023|OQ593825.1|2023-02-21',\n",
       " 'USA/UT-UPHL-230303927684/2023|OQ593974.1|2023-02-20']"
      ]
     },
     "execution_count": 244,
     "metadata": {},
     "output_type": "execute_result"
    }
   ],
   "source": [
    "[d for d in dropped.index if dropped[d]]"
   ]
  },
  {
   "cell_type": "markdown",
   "id": "5da142fb",
   "metadata": {},
   "source": [
    "These missing samples may have been retracted, filtered, or renamed. 38 of the automated lineage annotations included at least one of these samples."
   ]
  },
  {
   "cell_type": "code",
   "execution_count": 245,
   "id": "3dff6428",
   "metadata": {},
   "outputs": [
    {
     "data": {
      "text/plain": [
       "38"
      ]
     },
     "execution_count": 245,
     "metadata": {},
     "output_type": "execute_result"
    }
   ],
   "source": [
    "tdf['dropped'] = tdf.strain.isin([d for d in dropped.index if dropped[d]])\n",
    "tdf[tdf.dropped].lineage.nunique() "
   ]
  },
  {
   "cell_type": "markdown",
   "id": "38560bde",
   "metadata": {},
   "source": [
    "It appears that on April 12th and 13th 2023, several hundred samples were dropped from the tree."
   ]
  },
  {
   "cell_type": "code",
   "execution_count": 246,
   "id": "3e4f76f6",
   "metadata": {},
   "outputs": [
    {
     "data": {
      "text/plain": [
       "2023-04-30    11037\n",
       "2023-04-12      457\n",
       "2023-04-13      288\n",
       "2023-04-05       32\n",
       "2023-04-17       17\n",
       "2023-04-01       10\n",
       "2023-04-03       10\n",
       "2023-04-18        7\n",
       "2023-04-06        6\n",
       "2023-04-04        5\n",
       "2023-04-15        5\n",
       "2023-04-07        3\n",
       "Name: date, dtype: int64"
      ]
     },
     "execution_count": 246,
     "metadata": {},
     "output_type": "execute_result"
    }
   ],
   "source": [
    "tdf.groupby(\"strain\").date.max().value_counts()"
   ]
  },
  {
   "cell_type": "code",
   "execution_count": 247,
   "id": "0049dafc",
   "metadata": {},
   "outputs": [
    {
     "data": {
      "text/plain": [
       "(array([19448., 19452., 19456., 19460., 19464., 19468., 19472., 19476.,\n",
       "        19478.]),\n",
       " [Text(19448.0, 0, '2023-04-01'),\n",
       "  Text(19452.0, 0, '2023-04-05'),\n",
       "  Text(19456.0, 0, '2023-04-09'),\n",
       "  Text(19460.0, 0, '2023-04-13'),\n",
       "  Text(19464.0, 0, '2023-04-17'),\n",
       "  Text(19468.0, 0, '2023-04-21'),\n",
       "  Text(19472.0, 0, '2023-04-25'),\n",
       "  Text(19476.0, 0, '2023-04-29'),\n",
       "  Text(19478.0, 0, '2023-05-01')])"
      ]
     },
     "execution_count": 247,
     "metadata": {},
     "output_type": "execute_result"
    },
    {
     "data": {
      "image/png": "[encoded data removed]",
      "text/plain": [
       "<Figure size 640x480 with 1 Axes>"
      ]
     },
     "metadata": {},
     "output_type": "display_data"
    }
   ],
   "source": [
    "ax = sns.lineplot(tdf.date.value_counts().sort_index())\n",
    "plt.xticks(rotation=30)"
   ]
  },
  {
   "cell_type": "markdown",
   "id": "39e36dab",
   "metadata": {},
   "source": [
    "Some lineages were significantly affected, like \"auto.XBB.1.29.1\", which went from 12 to 7 samples on that day and failed to grow for the rest of the month."
   ]
  },
  {
   "cell_type": "code",
   "execution_count": 249,
   "id": "72fb81c9",
   "metadata": {},
   "outputs": [
    {
     "data": {
      "text/plain": [
       "date\n",
       "2023-04-01    12\n",
       "2023-04-02    12\n",
       "2023-04-03    12\n",
       "2023-04-04    12\n",
       "2023-04-05    12\n",
       "2023-04-06    12\n",
       "2023-04-07    12\n",
       "2023-04-08    12\n",
       "2023-04-09    12\n",
       "2023-04-10    12\n",
       "2023-04-11    12\n",
       "2023-04-12    12\n",
       "2023-04-13     7\n",
       "2023-04-14     7\n",
       "2023-04-15     7\n",
       "2023-04-16     7\n",
       "2023-04-17     7\n",
       "2023-04-18     7\n",
       "2023-04-19     7\n",
       "2023-04-20     7\n",
       "2023-04-21     7\n",
       "2023-04-22     7\n",
       "2023-04-23     7\n",
       "2023-04-24     7\n",
       "2023-04-25     7\n",
       "2023-04-26     7\n",
       "2023-04-27     7\n",
       "2023-04-28     7\n",
       "2023-04-29     7\n",
       "2023-04-30     7\n",
       "Name: strain, dtype: int64"
      ]
     },
     "execution_count": 249,
     "metadata": {},
     "output_type": "execute_result"
    }
   ],
   "source": [
    "tdf[tdf.lineage == 'auto.XBB.1.29.1'].groupby(\"date\").strain.nunique()"
   ]
  },
  {
   "cell_type": "code",
   "execution_count": 250,
   "id": "fa5ad010",
   "metadata": {},
   "outputs": [
    {
     "data": {
      "text/html": [
       "<div>\n",
       "<style scoped>\n",
       "    .dataframe tbody tr th:only-of-type {\n",
       "        vertical-align: middle;\n",
       "    }\n",
       "\n",
       "    .dataframe tbody tr th {\n",
       "        vertical-align: top;\n",
       "    }\n",
       "\n",
       "    .dataframe thead th {\n",
       "        text-align: right;\n",
       "    }\n",
       "</style>\n",
       "<table border=\"1\" class=\"dataframe\">\n",
       "  <thead>\n",
       "    <tr style=\"text-align: right;\">\n",
       "      <th></th>\n",
       "      <th>strain</th>\n",
       "      <th>date</th>\n",
       "      <th>lineage</th>\n",
       "      <th>dropped</th>\n",
       "    </tr>\n",
       "  </thead>\n",
       "  <tbody>\n",
       "    <tr>\n",
       "      <th>1224</th>\n",
       "      <td>Scotland/SCOT-26391/2023|OX451266.1|2023-02-08</td>\n",
       "      <td>2023-04-01</td>\n",
       "      <td>auto.XBB.1.29.1</td>\n",
       "      <td>False</td>\n",
       "    </tr>\n",
       "    <tr>\n",
       "      <th>1225</th>\n",
       "      <td>OX451444.1|2023-02-17</td>\n",
       "      <td>2023-04-01</td>\n",
       "      <td>auto.XBB.1.29.1</td>\n",
       "      <td>True</td>\n",
       "    </tr>\n",
       "    <tr>\n",
       "      <th>1226</th>\n",
       "      <td>OX451312.1|2023-02-08</td>\n",
       "      <td>2023-04-01</td>\n",
       "      <td>auto.XBB.1.29.1</td>\n",
       "      <td>True</td>\n",
       "    </tr>\n",
       "    <tr>\n",
       "      <th>1227</th>\n",
       "      <td>OX451266.1|2023-02-08</td>\n",
       "      <td>2023-04-01</td>\n",
       "      <td>auto.XBB.1.29.1</td>\n",
       "      <td>True</td>\n",
       "    </tr>\n",
       "    <tr>\n",
       "      <th>1228</th>\n",
       "      <td>OX451296.1|2023-02-14</td>\n",
       "      <td>2023-04-01</td>\n",
       "      <td>auto.XBB.1.29.1</td>\n",
       "      <td>True</td>\n",
       "    </tr>\n",
       "    <tr>\n",
       "      <th>1229</th>\n",
       "      <td>OX451307.1|2023-02-14</td>\n",
       "      <td>2023-04-01</td>\n",
       "      <td>auto.XBB.1.29.1</td>\n",
       "      <td>True</td>\n",
       "    </tr>\n",
       "    <tr>\n",
       "      <th>1230</th>\n",
       "      <td>OX451313.1|2023-02-13</td>\n",
       "      <td>2023-04-01</td>\n",
       "      <td>auto.XBB.1.29.1</td>\n",
       "      <td>True</td>\n",
       "    </tr>\n",
       "    <tr>\n",
       "      <th>1231</th>\n",
       "      <td>Scotland/SCOT-26515/2023|2023-02-17</td>\n",
       "      <td>2023-04-01</td>\n",
       "      <td>auto.XBB.1.29.1</td>\n",
       "      <td>False</td>\n",
       "    </tr>\n",
       "    <tr>\n",
       "      <th>1232</th>\n",
       "      <td>Scotland/SCOT-26390/2023|OX451312.1|2023-02-08</td>\n",
       "      <td>2023-04-01</td>\n",
       "      <td>auto.XBB.1.29.1</td>\n",
       "      <td>False</td>\n",
       "    </tr>\n",
       "    <tr>\n",
       "      <th>1233</th>\n",
       "      <td>Scotland/SCOT-26405/2023|OX451296.1|2023-02-14</td>\n",
       "      <td>2023-04-01</td>\n",
       "      <td>auto.XBB.1.29.1</td>\n",
       "      <td>False</td>\n",
       "    </tr>\n",
       "    <tr>\n",
       "      <th>1234</th>\n",
       "      <td>Scotland/SCOT-26404/2023|OX451307.1|2023-02-14</td>\n",
       "      <td>2023-04-01</td>\n",
       "      <td>auto.XBB.1.29.1</td>\n",
       "      <td>False</td>\n",
       "    </tr>\n",
       "    <tr>\n",
       "      <th>1235</th>\n",
       "      <td>Scotland/SCOT-26400/2023|OX451313.1|2023-02-13</td>\n",
       "      <td>2023-04-01</td>\n",
       "      <td>auto.XBB.1.29.1</td>\n",
       "      <td>False</td>\n",
       "    </tr>\n",
       "  </tbody>\n",
       "</table>\n",
       "</div>"
      ],
      "text/plain": [
       "                                              strain       date  \\\n",
       "1224  Scotland/SCOT-26391/2023|OX451266.1|2023-02-08 2023-04-01   \n",
       "1225                           OX451444.1|2023-02-17 2023-04-01   \n",
       "1226                           OX451312.1|2023-02-08 2023-04-01   \n",
       "1227                           OX451266.1|2023-02-08 2023-04-01   \n",
       "1228                           OX451296.1|2023-02-14 2023-04-01   \n",
       "1229                           OX451307.1|2023-02-14 2023-04-01   \n",
       "1230                           OX451313.1|2023-02-13 2023-04-01   \n",
       "1231             Scotland/SCOT-26515/2023|2023-02-17 2023-04-01   \n",
       "1232  Scotland/SCOT-26390/2023|OX451312.1|2023-02-08 2023-04-01   \n",
       "1233  Scotland/SCOT-26405/2023|OX451296.1|2023-02-14 2023-04-01   \n",
       "1234  Scotland/SCOT-26404/2023|OX451307.1|2023-02-14 2023-04-01   \n",
       "1235  Scotland/SCOT-26400/2023|OX451313.1|2023-02-13 2023-04-01   \n",
       "\n",
       "              lineage  dropped  \n",
       "1224  auto.XBB.1.29.1    False  \n",
       "1225  auto.XBB.1.29.1     True  \n",
       "1226  auto.XBB.1.29.1     True  \n",
       "1227  auto.XBB.1.29.1     True  \n",
       "1228  auto.XBB.1.29.1     True  \n",
       "1229  auto.XBB.1.29.1     True  \n",
       "1230  auto.XBB.1.29.1     True  \n",
       "1231  auto.XBB.1.29.1    False  \n",
       "1232  auto.XBB.1.29.1    False  \n",
       "1233  auto.XBB.1.29.1    False  \n",
       "1234  auto.XBB.1.29.1    False  \n",
       "1235  auto.XBB.1.29.1    False  "
      ]
     },
     "execution_count": 250,
     "metadata": {},
     "output_type": "execute_result"
    }
   ],
   "source": [
    "tdf[(tdf.lineage == 'auto.XBB.1.29.1') & (tdf.date == dt.datetime(year=2023,month=4,day=1))]"
   ]
  },
  {
   "cell_type": "markdown",
   "id": "25cde670",
   "metadata": {},
   "source": [
    "Inspecting these samples more closely, we can see that several appear to be redundant- \"OX451266.1|2023-02-08\" is likely the same sample as \"Scotland/SCOT-26391/2023|OX451266.1|2023-02-08\". Presumably, the maintainers of the database containing these phylogenies realized this duplication error on 2023-04-12 and dropped the duplicate IDs for the next day's tree."
   ]
  },
  {
   "cell_type": "code",
   "execution_count": 251,
   "id": "4f501906",
   "metadata": {},
   "outputs": [
    {
     "data": {
      "text/plain": [
       "Scotland/SCOT-26391/2023|OX451266.1|2023-02-08    30\n",
       "Scotland/SCOT-26515/2023|2023-02-17               30\n",
       "Scotland/SCOT-26390/2023|OX451312.1|2023-02-08    30\n",
       "Scotland/SCOT-26405/2023|OX451296.1|2023-02-14    30\n",
       "Scotland/SCOT-26404/2023|OX451307.1|2023-02-14    30\n",
       "Scotland/SCOT-26400/2023|OX451313.1|2023-02-13    30\n",
       "Scotland/SCOT-26515/2023|OX451444.1|2023-02-17    17\n",
       "OX451444.1|2023-02-17                             13\n",
       "OX451312.1|2023-02-08                             12\n",
       "OX451266.1|2023-02-08                             12\n",
       "OX451296.1|2023-02-14                             12\n",
       "OX451307.1|2023-02-14                             12\n",
       "OX451313.1|2023-02-13                             12\n",
       "Name: strain, dtype: int64"
      ]
     },
     "execution_count": 251,
     "metadata": {},
     "output_type": "execute_result"
    }
   ],
   "source": [
    "tdf[tdf.lineage == 'auto.XBB.1.29.1'].strain.value_counts()"
   ]
  }
 ],
 "metadata": {
  "kernelspec": {
   "display_name": "Python 3 (ipykernel)",
   "language": "python",
   "name": "python3"
  },
  "language_info": {
   "codemirror_mode": {
    "name": "ipython",
    "version": 3
   },
   "file_extension": ".py",
   "mimetype": "text/x-python",
   "name": "python",
   "nbconvert_exporter": "python",
   "pygments_lexer": "ipython3",
   "version": "3.10.6"
  }
 },
 "nbformat": 4,
 "nbformat_minor": 5
}
